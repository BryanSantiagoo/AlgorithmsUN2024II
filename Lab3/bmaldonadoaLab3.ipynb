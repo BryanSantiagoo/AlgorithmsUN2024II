{
  "cells": [
    {
      "cell_type": "code",
      "execution_count": null,
      "metadata": {
        "id": "im-VVd1__7VU",
        "colab": {
          "base_uri": "https://localhost:8080/"
        },
        "outputId": "ebcaf369-e5e7-401d-dd5c-802e8a0c3ddf"
      },
      "outputs": [
        {
          "output_type": "stream",
          "name": "stdout",
          "text": [
            "processor\t: 0\n",
            "vendor_id\t: GenuineIntel\n",
            "cpu family\t: 6\n",
            "model\t\t: 79\n",
            "model name\t: Intel(R) Xeon(R) CPU @ 2.20GHz\n",
            "stepping\t: 0\n",
            "microcode\t: 0xffffffff\n",
            "cpu MHz\t\t: 2200.170\n",
            "cache size\t: 56320 KB\n",
            "physical id\t: 0\n",
            "siblings\t: 2\n",
            "core id\t\t: 0\n",
            "cpu cores\t: 1\n",
            "apicid\t\t: 0\n",
            "initial apicid\t: 0\n",
            "fpu\t\t: yes\n",
            "fpu_exception\t: yes\n",
            "cpuid level\t: 13\n",
            "wp\t\t: yes\n",
            "flags\t\t: fpu vme de pse tsc msr pae mce cx8 apic sep mtrr pge mca cmov pat pse36 clflush mmx fxsr sse sse2 ss ht syscall nx pdpe1gb rdtscp lm constant_tsc rep_good nopl xtopology nonstop_tsc cpuid tsc_known_freq pni pclmulqdq ssse3 fma cx16 pcid sse4_1 sse4_2 x2apic movbe popcnt aes xsave avx f16c rdrand hypervisor lahf_lm abm 3dnowprefetch invpcid_single ssbd ibrs ibpb stibp fsgsbase tsc_adjust bmi1 hle avx2 smep bmi2 erms invpcid rtm rdseed adx smap xsaveopt arat md_clear arch_capabilities\n",
            "bugs\t\t: cpu_meltdown spectre_v1 spectre_v2 spec_store_bypass l1tf mds swapgs taa mmio_stale_data retbleed bhi\n",
            "bogomips\t: 4400.34\n",
            "clflush size\t: 64\n",
            "cache_alignment\t: 64\n",
            "address sizes\t: 46 bits physical, 48 bits virtual\n",
            "power management:\n",
            "\n",
            "processor\t: 1\n",
            "vendor_id\t: GenuineIntel\n",
            "cpu family\t: 6\n",
            "model\t\t: 79\n",
            "model name\t: Intel(R) Xeon(R) CPU @ 2.20GHz\n",
            "stepping\t: 0\n",
            "microcode\t: 0xffffffff\n",
            "cpu MHz\t\t: 2200.170\n",
            "cache size\t: 56320 KB\n",
            "physical id\t: 0\n",
            "siblings\t: 2\n",
            "core id\t\t: 0\n",
            "cpu cores\t: 1\n",
            "apicid\t\t: 1\n",
            "initial apicid\t: 1\n",
            "fpu\t\t: yes\n",
            "fpu_exception\t: yes\n",
            "cpuid level\t: 13\n",
            "wp\t\t: yes\n",
            "flags\t\t: fpu vme de pse tsc msr pae mce cx8 apic sep mtrr pge mca cmov pat pse36 clflush mmx fxsr sse sse2 ss ht syscall nx pdpe1gb rdtscp lm constant_tsc rep_good nopl xtopology nonstop_tsc cpuid tsc_known_freq pni pclmulqdq ssse3 fma cx16 pcid sse4_1 sse4_2 x2apic movbe popcnt aes xsave avx f16c rdrand hypervisor lahf_lm abm 3dnowprefetch invpcid_single ssbd ibrs ibpb stibp fsgsbase tsc_adjust bmi1 hle avx2 smep bmi2 erms invpcid rtm rdseed adx smap xsaveopt arat md_clear arch_capabilities\n",
            "bugs\t\t: cpu_meltdown spectre_v1 spectre_v2 spec_store_bypass l1tf mds swapgs taa mmio_stale_data retbleed bhi\n",
            "bogomips\t: 4400.34\n",
            "clflush size\t: 64\n",
            "cache_alignment\t: 64\n",
            "address sizes\t: 46 bits physical, 48 bits virtual\n",
            "power management:\n",
            "\n"
          ]
        }
      ],
      "source": [
        "!cat /proc/cpuinfo"
      ]
    },
    {
      "cell_type": "markdown",
      "metadata": {
        "id": "N1ok_-56OjB1"
      },
      "source": [
        "# I Solving the Sum of Two Digits Programming Challenge"
      ]
    },
    {
      "cell_type": "markdown",
      "metadata": {
        "id": "MMY7kmDSO0KM"
      },
      "source": [
        "## C++"
      ]
    },
    {
      "cell_type": "code",
      "execution_count": null,
      "metadata": {
        "colab": {
          "base_uri": "https://localhost:8080/"
        },
        "id": "2pGGf9BkPNIk",
        "outputId": "93f96ba4-7627-4abd-ae05-92ce8dcccc5f"
      },
      "outputs": [
        {
          "output_type": "stream",
          "name": "stdout",
          "text": [
            "Writing APlusB.cpp\n"
          ]
        }
      ],
      "source": [
        "%%writefile APlusB.cpp\n",
        "#include <iostream>\n",
        "\n",
        "int sum_of_two_digits(int first_digit, int second_digit) {\n",
        "    return first_digit + second_digit;\n",
        "}\n",
        "\n",
        "int main() {\n",
        "    int a = 0;\n",
        "    int b = 0;\n",
        "    std::cin >> a;\n",
        "    std::cin >> b;\n",
        "    std::cout << sum_of_two_digits(a, b);\n",
        "    return 0;\n",
        "}"
      ]
    },
    {
      "cell_type": "code",
      "execution_count": null,
      "metadata": {
        "colab": {
          "base_uri": "https://localhost:8080/"
        },
        "id": "0G3ZKOYAPXSU",
        "outputId": "6f920002-93e5-405b-8a1d-70b9a0c8bcfe"
      },
      "outputs": [
        {
          "output_type": "stream",
          "name": "stdout",
          "text": [
            "1\n",
            "2\n",
            "3"
          ]
        }
      ],
      "source": [
        "!g++ APlusB.cpp -o APlusB -std=c++11\n",
        "!./APlusB"
      ]
    },
    {
      "cell_type": "markdown",
      "metadata": {
        "id": "iNkG2HqfTl9c"
      },
      "source": [
        "### Test input output files"
      ]
    },
    {
      "cell_type": "code",
      "execution_count": null,
      "metadata": {
        "colab": {
          "base_uri": "https://localhost:8080/"
        },
        "id": "aTzU2efzMxly",
        "outputId": "cbe1edd7-3d50-419c-f804-9fab651c29ab"
      },
      "outputs": [
        {
          "output_type": "stream",
          "name": "stdout",
          "text": [
            "Writing input1.txt\n"
          ]
        }
      ],
      "source": [
        "%%writefile input1.txt\n",
        "4 8"
      ]
    },
    {
      "cell_type": "code",
      "execution_count": null,
      "metadata": {
        "colab": {
          "base_uri": "https://localhost:8080/"
        },
        "id": "zBJ0Gc0NQRet",
        "outputId": "e70cdf4a-8a5f-4aab-fa7d-923b1ef55066"
      },
      "outputs": [
        {
          "output_type": "stream",
          "name": "stdout",
          "text": [
            "Writing output1.txt\n"
          ]
        }
      ],
      "source": [
        "%%writefile output1.txt\n",
        "12"
      ]
    },
    {
      "cell_type": "code",
      "execution_count": null,
      "metadata": {
        "colab": {
          "base_uri": "https://localhost:8080/"
        },
        "id": "IjEcIx63PJAN",
        "outputId": "ef5f8013-3cc4-446d-c3bd-62d7e10f7f7f"
      },
      "outputs": [
        {
          "output_type": "stream",
          "name": "stdout",
          "text": [
            "Writing input2.txt\n"
          ]
        }
      ],
      "source": [
        "%%writefile input2.txt\n",
        "0 9"
      ]
    },
    {
      "cell_type": "code",
      "execution_count": null,
      "metadata": {
        "colab": {
          "base_uri": "https://localhost:8080/"
        },
        "id": "Up9gOrxURTmd",
        "outputId": "418343b7-40ce-424e-c1db-f25bb1bb2257"
      },
      "outputs": [
        {
          "output_type": "stream",
          "name": "stdout",
          "text": [
            "Writing output2.txt\n"
          ]
        }
      ],
      "source": [
        "%%writefile output2.txt\n",
        "9"
      ]
    },
    {
      "cell_type": "code",
      "execution_count": null,
      "metadata": {
        "colab": {
          "base_uri": "https://localhost:8080/"
        },
        "id": "PST6G-s-Pwgc",
        "outputId": "8da36fcc-35c5-4b90-f0ac-7f050349e7ec"
      },
      "outputs": [
        {
          "output_type": "stream",
          "name": "stdout",
          "text": [
            "12"
          ]
        }
      ],
      "source": [
        "!./APlusB < input1.txt"
      ]
    },
    {
      "cell_type": "code",
      "execution_count": null,
      "metadata": {
        "colab": {
          "base_uri": "https://localhost:8080/"
        },
        "id": "cKxZOjSlRfIN",
        "outputId": "fbeb2ba6-1963-4126-c226-b6f07992ec8e"
      },
      "outputs": [
        {
          "output_type": "stream",
          "name": "stdout",
          "text": [
            "9"
          ]
        }
      ],
      "source": [
        "!./APlusB < input2.txt"
      ]
    },
    {
      "cell_type": "markdown",
      "metadata": {
        "id": "Qw2TQWCCUwqk"
      },
      "source": [
        "### Comparing files with grep\n",
        "\n",
        "https://askubuntu.com/questions/546796/comparing-two-text-files"
      ]
    },
    {
      "cell_type": "code",
      "execution_count": null,
      "metadata": {
        "id": "Jlja0Xm4TX9M"
      },
      "outputs": [],
      "source": [
        "!./APlusB < input1.txt> ctest1.txt\n",
        "!grep -xvFf output1.txt ctest1.txt"
      ]
    },
    {
      "cell_type": "code",
      "execution_count": null,
      "metadata": {
        "id": "g9OIUZA_QLCQ"
      },
      "outputs": [],
      "source": [
        "!./APlusB < input2.txt > ctest2.txt\n",
        "!grep -xvFf output2.txt ctest2.txt"
      ]
    },
    {
      "cell_type": "markdown",
      "metadata": {
        "id": "3BgOaDjUVJk6"
      },
      "source": [
        "## Python"
      ]
    },
    {
      "cell_type": "code",
      "execution_count": null,
      "metadata": {
        "colab": {
          "base_uri": "https://localhost:8080/"
        },
        "id": "DBvl-T0CTN_8",
        "outputId": "c397ddc3-ffb4-4e59-a40b-68e5d8108585"
      },
      "outputs": [
        {
          "output_type": "stream",
          "name": "stdout",
          "text": [
            "Writing sum.py\n"
          ]
        }
      ],
      "source": [
        "%%writefile sum.py\n",
        "# python3\n",
        "\n",
        "def sum_of_two_digits(first_digit, second_digit):\n",
        "    return first_digit + second_digit\n",
        "\n",
        "if __name__ == '__main__':\n",
        "    a, b = map(int, input().split())\n",
        "    print(sum_of_two_digits(a, b))"
      ]
    },
    {
      "cell_type": "code",
      "execution_count": null,
      "metadata": {
        "colab": {
          "base_uri": "https://localhost:8080/"
        },
        "id": "QKoKM11_WGyF",
        "outputId": "3d4d1cae-c9ee-4bfe-9b94-c33d765ee48d"
      },
      "outputs": [
        {
          "output_type": "stream",
          "name": "stdout",
          "text": [
            "\n",
            "^C\n"
          ]
        }
      ],
      "source": [
        "!python sum.py"
      ]
    },
    {
      "cell_type": "code",
      "execution_count": null,
      "metadata": {
        "id": "cocFbPRTWrqt"
      },
      "outputs": [],
      "source": [
        "!python sum.py  < input1.txt> ptest1.txt\n",
        "!grep -xvFf output1.txt ptest1.txt"
      ]
    },
    {
      "cell_type": "code",
      "execution_count": null,
      "metadata": {
        "id": "MorKTa-XXASN"
      },
      "outputs": [],
      "source": [
        "!python sum.py  < input2.txt> ptest2.txt\n",
        "!grep -xvFf output2.txt ptest2.txt"
      ]
    },
    {
      "cell_type": "markdown",
      "metadata": {
        "id": "uvP-mOubW_5F"
      },
      "source": [
        "# II Solving The Maximum Pairwise Product Programming Challenge in C++"
      ]
    },
    {
      "cell_type": "markdown",
      "metadata": {
        "id": "C12yoFR6Xonl"
      },
      "source": [
        "## C++\n",
        "\n",
        "$$ T(n) < 6 n^2 = O(n^2)$$"
      ]
    },
    {
      "cell_type": "code",
      "source": [
        "%%writefile max_pairwise_product_full.cpp\n",
        "#include <iostream>\n",
        "#include <vector>\n",
        "#include <algorithm>\n",
        "\n",
        "int MaxPairwiseProduct(const std::vector<int>& numbers) {\n",
        "    int max_product = 0;\n",
        "    int aux_product = 0;\n",
        "    int n = numbers.size();\n",
        "\n",
        "    for (int first = 0; first < n; ++first) {\n",
        "        for (int second = 0; second < n; ++second) {\n",
        "          if ( first != second ){\n",
        "                aux_product = numbers[first] * numbers[second];\n",
        "                if (aux_product > max_product)  max_product = aux_product;\n",
        "          }\n",
        "        }\n",
        "    }\n",
        "\n",
        "    return max_product;\n",
        "}\n",
        "\n",
        "int main() {\n",
        "    int n;\n",
        "    std::cin >> n;\n",
        "    std::vector<int> numbers(n);\n",
        "    for (int i = 0; i < n; ++i) {\n",
        "        std::cin >> numbers[i];\n",
        "    }\n",
        "\n",
        "    std::cout << MaxPairwiseProduct(numbers) << \"\\n\";\n",
        "    return 0;\n",
        "}"
      ],
      "metadata": {
        "colab": {
          "base_uri": "https://localhost:8080/"
        },
        "id": "3LpfoGv2Ae81",
        "outputId": "8a8eeca9-c7f6-4f32-9776-ca81af87158d"
      },
      "execution_count": null,
      "outputs": [
        {
          "output_type": "stream",
          "name": "stdout",
          "text": [
            "Writing max_pairwise_product_full.cpp\n"
          ]
        }
      ]
    },
    {
      "cell_type": "markdown",
      "metadata": {
        "id": "m75IQQPbEHBS"
      },
      "source": [
        "#### Time Complexity\n",
        "$$\\left. \\begin{array}{llc}\n",
        " \\text{INSTRUCTION} & \\text{TYPE}& \\text{# EXECUTIONS}\\\\\n",
        "\\text{first != second} &  \\text{comparisons} &n^2 \\\\\n",
        "\\text{numbers[first] * numbers[second]}& \\ \\text{ products}  &n^2 - n \\\\\n",
        "\\text{max_product = aux_product} &  \\text{assigments} & [1, \\frac{n^2 - n}{2})  \n",
        "\\end{array}\\right\\}  =  O(n^2)$$"
      ]
    },
    {
      "cell_type": "code",
      "source": [
        "!g++ max_pairwise_product_full.cpp -o max_pairwise_product_full\n",
        "!./max_pairwise_product_full"
      ],
      "metadata": {
        "id": "PCVo1h6nCF9k",
        "colab": {
          "base_uri": "https://localhost:8080/"
        },
        "outputId": "2a4aa95b-1980-4417-cf9b-011a39eadbf5"
      },
      "execution_count": null,
      "outputs": [
        {
          "output_type": "stream",
          "name": "stdout",
          "text": [
            "^C\n"
          ]
        }
      ]
    },
    {
      "cell_type": "markdown",
      "metadata": {
        "id": "e7KhxHGNS3i0"
      },
      "source": [
        "### Test 1: Small numbers"
      ]
    },
    {
      "cell_type": "code",
      "source": [
        "%%writefile input0.txt\n",
        "10\n",
        "0 0 0 0 0 0 0 0 0 0"
      ],
      "metadata": {
        "colab": {
          "base_uri": "https://localhost:8080/"
        },
        "id": "17npyXt7lYzA",
        "outputId": "1ef7ad93-5aea-47bf-a8e6-c1ebb35490aa"
      },
      "execution_count": null,
      "outputs": [
        {
          "output_type": "stream",
          "name": "stdout",
          "text": [
            "Writing input0.txt\n"
          ]
        }
      ]
    },
    {
      "cell_type": "code",
      "source": [
        "%%writefile output0.txt\n",
        "0"
      ],
      "metadata": {
        "colab": {
          "base_uri": "https://localhost:8080/"
        },
        "id": "NooGEkJylezm",
        "outputId": "1a1f708e-a73b-4661-873c-697761c12aec"
      },
      "execution_count": null,
      "outputs": [
        {
          "output_type": "stream",
          "name": "stdout",
          "text": [
            "Writing output0.txt\n"
          ]
        }
      ]
    },
    {
      "cell_type": "code",
      "source": [
        "!./max_pairwise_product_full< input0.txt > ctest0.txt\n",
        "!grep -xvFf output0.txt ctest0.txt"
      ],
      "metadata": {
        "id": "R0yFaAOrlqrE"
      },
      "execution_count": null,
      "outputs": []
    },
    {
      "cell_type": "code",
      "execution_count": null,
      "metadata": {
        "colab": {
          "base_uri": "https://localhost:8080/"
        },
        "id": "e1mmTzBgShT-",
        "outputId": "eebead6f-41e0-4aa4-cb8e-02b021aab29a"
      },
      "outputs": [
        {
          "output_type": "stream",
          "name": "stdout",
          "text": [
            "Overwriting input1.txt\n"
          ]
        }
      ],
      "source": [
        "%%writefile input1.txt\n",
        "10\n",
        "1 2 3 4 5 6 7 8 9 10"
      ]
    },
    {
      "cell_type": "code",
      "execution_count": null,
      "metadata": {
        "colab": {
          "base_uri": "https://localhost:8080/"
        },
        "id": "vy_uI0x7TCId",
        "outputId": "a9ed1554-d585-49e6-c3ae-c0ee1d8544fc"
      },
      "outputs": [
        {
          "output_type": "stream",
          "name": "stdout",
          "text": [
            "/bin/bash: line 1: ./max_pairwise_product: No such file or directory\n"
          ]
        }
      ],
      "source": [
        "!./max_pairwise_product < input1.txt"
      ]
    },
    {
      "cell_type": "code",
      "execution_count": null,
      "metadata": {
        "colab": {
          "base_uri": "https://localhost:8080/"
        },
        "id": "xaj6f9bxC6D6",
        "outputId": "5f7b4faf-8539-4a97-f75d-21dbb3fe8171"
      },
      "outputs": [
        {
          "output_type": "stream",
          "name": "stdout",
          "text": [
            "Overwriting output1.txt\n"
          ]
        }
      ],
      "source": [
        "%%writefile output1.txt\n",
        "90"
      ]
    },
    {
      "cell_type": "code",
      "execution_count": null,
      "metadata": {
        "id": "fYCjAdA_C-wy"
      },
      "outputs": [],
      "source": [
        "!./max_pairwise_product_full< input1.txt > ctest1.txt\n",
        "!grep -xvFf output1.txt ctest1.txt"
      ]
    },
    {
      "cell_type": "code",
      "source": [
        "%%writefile input2.txt\n",
        "10\n",
        "10 9 8 7 6 5 4 3 2 1"
      ],
      "metadata": {
        "colab": {
          "base_uri": "https://localhost:8080/"
        },
        "id": "ZPe40LY14_6f",
        "outputId": "22316f10-f7a8-4aaa-9d72-476c05252e1b"
      },
      "execution_count": null,
      "outputs": [
        {
          "output_type": "stream",
          "name": "stdout",
          "text": [
            "Overwriting input2.txt\n"
          ]
        }
      ]
    },
    {
      "cell_type": "code",
      "source": [
        "%%writefile output2.txt\n",
        "90"
      ],
      "metadata": {
        "colab": {
          "base_uri": "https://localhost:8080/"
        },
        "id": "xiHmF7HA5Faa",
        "outputId": "1cc39919-3a49-48e1-c66a-6bf691c31559"
      },
      "execution_count": null,
      "outputs": [
        {
          "output_type": "stream",
          "name": "stdout",
          "text": [
            "Overwriting output2.txt\n"
          ]
        }
      ]
    },
    {
      "cell_type": "code",
      "source": [
        "!./max_pairwise_product_full< input2.txt > ctest2.txt\n",
        "!grep -xvFf output2.txt ctest2.txt"
      ],
      "metadata": {
        "id": "jjwc9kwb5t_k"
      },
      "execution_count": null,
      "outputs": []
    },
    {
      "cell_type": "markdown",
      "metadata": {
        "id": "IeZ3kTjpYmR9"
      },
      "source": [
        "### Test 2: largest input numbers 200000 200000 to check possible intger overflow"
      ]
    },
    {
      "cell_type": "code",
      "execution_count": null,
      "metadata": {
        "colab": {
          "base_uri": "https://localhost:8080/"
        },
        "id": "LQNlZqaqYt7U",
        "outputId": "c45bce1a-012e-4702-b068-74c4940bbd38"
      },
      "outputs": [
        {
          "output_type": "stream",
          "name": "stdout",
          "text": [
            "Writing input3.txt\n"
          ]
        }
      ],
      "source": [
        "%%writefile input3.txt\n",
        "6\n",
        "1 3 200000 9 200000 23"
      ]
    },
    {
      "cell_type": "code",
      "execution_count": null,
      "metadata": {
        "colab": {
          "base_uri": "https://localhost:8080/"
        },
        "id": "GjQq7QOUCw-9",
        "outputId": "d893e63c-0b11-4ec2-fff4-7f69e4683231"
      },
      "outputs": [
        {
          "output_type": "execute_result",
          "data": {
            "text/plain": [
              "40000000000"
            ]
          },
          "metadata": {},
          "execution_count": 31
        }
      ],
      "source": [
        "200000*200000"
      ]
    },
    {
      "cell_type": "code",
      "execution_count": null,
      "metadata": {
        "colab": {
          "base_uri": "https://localhost:8080/"
        },
        "id": "EuS6n3jtDK5C",
        "outputId": "93f06cc0-fd3a-44db-d9f9-f4ae11f995a1"
      },
      "outputs": [
        {
          "output_type": "stream",
          "name": "stdout",
          "text": [
            "Writing output3.txt\n"
          ]
        }
      ],
      "source": [
        "%%writefile output3.txt\n",
        "40000000000"
      ]
    },
    {
      "cell_type": "code",
      "execution_count": null,
      "metadata": {
        "colab": {
          "base_uri": "https://localhost:8080/"
        },
        "id": "2Wad2VZUZDxR",
        "outputId": "9541fc50-674d-46c6-c2aa-52699e73a63a"
      },
      "outputs": [
        {
          "output_type": "stream",
          "name": "stdout",
          "text": [
            "1345294336\n"
          ]
        }
      ],
      "source": [
        "!./max_pairwise_product_full < input3.txt"
      ]
    },
    {
      "cell_type": "code",
      "execution_count": null,
      "metadata": {
        "colab": {
          "base_uri": "https://localhost:8080/"
        },
        "id": "pEvp1ieyDJGq",
        "outputId": "affc68da-16b1-44ba-d875-20e6512ee823"
      },
      "outputs": [
        {
          "output_type": "stream",
          "name": "stdout",
          "text": [
            "1345294336\n"
          ]
        }
      ],
      "source": [
        "!./max_pairwise_product_full < input3.txt > ctest3.txt\n",
        "!grep -xvFf output3.txt ctest3.txt"
      ]
    },
    {
      "cell_type": "code",
      "source": [
        " %%writefile run_all_test.sh\n",
        "#!/bin/bash\n",
        "g++ max_pairwise_product_full.cpp -o max_pairwise_product_full\n",
        "for i in {0..3}\n",
        "do\n",
        "    ./max_pairwise_product_full < input$i.txt > ctest$i.txt\n",
        "    grep -xvFf output$i.txt ctest$i.txt\n",
        "done"
      ],
      "metadata": {
        "colab": {
          "base_uri": "https://localhost:8080/"
        },
        "id": "SrtJrKqM-God",
        "outputId": "0cc75c10-d55e-4d4f-873d-d69123da6542"
      },
      "execution_count": null,
      "outputs": [
        {
          "output_type": "stream",
          "name": "stdout",
          "text": [
            "Writing run_all_test.sh\n"
          ]
        }
      ]
    },
    {
      "cell_type": "code",
      "source": [
        "!chmod u+x run_all_test.sh\n",
        "!./run_all_test.sh"
      ],
      "metadata": {
        "colab": {
          "base_uri": "https://localhost:8080/"
        },
        "id": "wGWMHtzS-QnA",
        "outputId": "4b6d46cb-6e0a-465d-c89d-d1ba0750138b"
      },
      "execution_count": null,
      "outputs": [
        {
          "output_type": "stream",
          "name": "stdout",
          "text": [
            "1345294336\n"
          ]
        }
      ]
    },
    {
      "cell_type": "markdown",
      "metadata": {
        "id": "H2SC0Qt5HCzz"
      },
      "source": [
        "### Changing the variables to long long"
      ]
    },
    {
      "cell_type": "code",
      "execution_count": null,
      "metadata": {
        "colab": {
          "base_uri": "https://localhost:8080/"
        },
        "id": "MPcmsxiQZSfE",
        "outputId": "7b543191-d573-4a63-ba3f-ab1e1896d9e9"
      },
      "outputs": [
        {
          "output_type": "stream",
          "name": "stdout",
          "text": [
            "Writing max_pairwise_product_long_full.cpp\n"
          ]
        }
      ],
      "source": [
        "%%writefile max_pairwise_product_long_full.cpp\n",
        "#include <iostream>\n",
        "#include <vector>\n",
        "#include <algorithm>\n",
        "\n",
        "long long MaxPairwiseProduct(const std::vector<int>& numbers) {\n",
        "    long long max_product = 0LL;\n",
        "\t  long long aux_product = 0LL;\n",
        "    int n = numbers.size();\n",
        "\n",
        "    for (int first = 0; first < n; ++first) {\n",
        "        for (int second = 0; second < n; ++second) {\n",
        "          if ( first != second){\n",
        "                aux_product = (long long) numbers[first] * numbers[second];\n",
        "                if (aux_product > max_product)  max_product = aux_product;\n",
        "          }\n",
        "        }\n",
        "    }\n",
        "\n",
        "\n",
        "    return max_product;\n",
        "}\n",
        "\n",
        "int main() {\n",
        "    int n;\n",
        "    std::cin >> n;\n",
        "    std::vector<int> numbers(n);\n",
        "    for (int i = 0; i < n; ++i) {\n",
        "        std::cin >> numbers[i];\n",
        "    }\n",
        "\n",
        "    std::cout << MaxPairwiseProduct(numbers) << \"\\n\";\n",
        "    return 0;\n",
        "}\n"
      ]
    },
    {
      "cell_type": "code",
      "source": [
        "!g++ max_pairwise_product_long_full.cpp -o max_pairwise_product_long_full"
      ],
      "metadata": {
        "id": "W3xQpFXL6wjO"
      },
      "execution_count": null,
      "outputs": []
    },
    {
      "cell_type": "code",
      "source": [
        "!./max_pairwise_product_long_full < input3.txt"
      ],
      "metadata": {
        "colab": {
          "base_uri": "https://localhost:8080/"
        },
        "id": "H5dvN9M3R9sV",
        "outputId": "9c5184aa-c7d8-46cd-a0cc-5a00e068a811"
      },
      "execution_count": null,
      "outputs": [
        {
          "output_type": "stream",
          "name": "stdout",
          "text": [
            "40000000000\n"
          ]
        }
      ]
    },
    {
      "cell_type": "markdown",
      "source": [
        "### Runing multuple test with a bash shell"
      ],
      "metadata": {
        "id": "gx-sEYdfQ8f8"
      }
    },
    {
      "cell_type": "code",
      "source": [
        " %%writefile run_all_test.sh\n",
        "#!/bin/bash\n",
        "g++ max_pairwise_product_long_full.cpp -o max_pairwise_product_long_full\n",
        "for i in {1..3}\n",
        "do\n",
        "    ./max_pairwise_product_long_full < input$i.txt > ctest$i.txt\n",
        "    grep -xvFf output$i.txt ctest$i.txt\n",
        "done"
      ],
      "metadata": {
        "colab": {
          "base_uri": "https://localhost:8080/"
        },
        "id": "O9qsq2nn7elw",
        "outputId": "0df96efa-bb26-4be8-ac90-fb2ae07f130f"
      },
      "execution_count": null,
      "outputs": [
        {
          "output_type": "stream",
          "name": "stdout",
          "text": [
            "Overwriting run_all_test.sh\n"
          ]
        }
      ]
    },
    {
      "cell_type": "code",
      "source": [
        "!chmod u+x run_all_test.sh\n",
        "!./run_all_test.sh"
      ],
      "metadata": {
        "id": "0g5kKVph7xIA"
      },
      "execution_count": null,
      "outputs": []
    },
    {
      "cell_type": "markdown",
      "metadata": {
        "id": "XPVHkHxH6_7s"
      },
      "source": [
        "### Test 3  stress tests, 6 testing cases files input4.txt/output4.txt .. input10.txt/output10.txt\n",
        "\n",
        "---\n",
        "\n"
      ]
    },
    {
      "cell_type": "code",
      "execution_count": null,
      "metadata": {
        "id": "PwqpBmYr69fu",
        "colab": {
          "base_uri": "https://localhost:8080/"
        },
        "outputId": "809fc617-5ccb-4c2c-b7c4-341bf89f2356"
      },
      "outputs": [
        {
          "output_type": "stream",
          "name": "stdout",
          "text": [
            "Overwriting input3.txt\n"
          ]
        }
      ],
      "source": [
        "%%writefile input3.txt\n",
        "6\n",
        "1 3000 2000 9 20 23"
      ]
    },
    {
      "cell_type": "code",
      "execution_count": null,
      "metadata": {
        "id": "jBCkMeR6Fw4y",
        "colab": {
          "base_uri": "https://localhost:8080/"
        },
        "outputId": "e15587de-371b-4da1-d6e0-2b73daaa3880"
      },
      "outputs": [
        {
          "output_type": "stream",
          "name": "stdout",
          "text": [
            "Writing input4.txt\n"
          ]
        }
      ],
      "source": [
        "%%writefile input4.txt\n",
        "7\n",
        "11 456 789 101112 131415 161718 192021"
      ]
    },
    {
      "cell_type": "code",
      "source": [
        "%%writefile input5.txt\n",
        "5\n",
        "951 753 654 852 379"
      ],
      "metadata": {
        "id": "zED8V8wu-eoM",
        "colab": {
          "base_uri": "https://localhost:8080/"
        },
        "outputId": "2a298400-e6de-4ecf-9bce-95f1be529b08"
      },
      "execution_count": null,
      "outputs": [
        {
          "output_type": "stream",
          "name": "stdout",
          "text": [
            "Writing input5.txt\n"
          ]
        }
      ]
    },
    {
      "cell_type": "code",
      "source": [
        "%%writefile input9.txt\n",
        "6\n",
        "1 3333 2000 9 2222 23"
      ],
      "metadata": {
        "colab": {
          "base_uri": "https://localhost:8080/"
        },
        "id": "-zvVbCAK2LyL",
        "outputId": "11d2d331-5192-4e83-813f-9ce9ab71e61a"
      },
      "execution_count": null,
      "outputs": [
        {
          "output_type": "stream",
          "name": "stdout",
          "text": [
            "Writing input9.txt\n"
          ]
        }
      ]
    },
    {
      "cell_type": "code",
      "source": [
        "%%writefile input10.txt\n",
        "6\n",
        "1111 2222 3333 4444 5555 6666"
      ],
      "metadata": {
        "colab": {
          "base_uri": "https://localhost:8080/"
        },
        "id": "1RQB3RMe2ORe",
        "outputId": "40306bc9-14ff-4165-a8dc-551e66e778d8"
      },
      "execution_count": null,
      "outputs": [
        {
          "output_type": "stream",
          "name": "stdout",
          "text": [
            "Writing input10.txt\n"
          ]
        }
      ]
    },
    {
      "cell_type": "code",
      "source": [
        "!./max_pairwise_product_long_full < input1.txt\n",
        "!./max_pairwise_product_long_full < input2.txt\n",
        "!./max_pairwise_product_long_full < input3.txt > output3.txt\n",
        "!./max_pairwise_product_long_full < input4.txt > output4.txt\n",
        "!./max_pairwise_product_long_full < input5.txt > output5.txt\n",
        "!./max_pairwise_product_long_full < input6.txt > output6.txt\n",
        "!./max_pairwise_product_long_full < input7.txt > output7.txt\n",
        "!./max_pairwise_product_long_full < input8.txt > output8.txt\n",
        "!./max_pairwise_product_long_full < input9.txt > output9.txt\n",
        "!./max_pairwise_product_long_full < input10.txt > output10.txt"
      ],
      "metadata": {
        "colab": {
          "base_uri": "https://localhost:8080/"
        },
        "id": "Dnj629BP2XXX",
        "outputId": "1dea8340-8992-456f-9dbc-97a54860176b"
      },
      "execution_count": null,
      "outputs": [
        {
          "output_type": "stream",
          "name": "stdout",
          "text": [
            "90\n",
            "90\n",
            "/bin/bash: line 1: input6.txt: No such file or directory\n",
            "/bin/bash: line 1: input7.txt: No such file or directory\n",
            "/bin/bash: line 1: input8.txt: No such file or directory\n"
          ]
        }
      ]
    },
    {
      "cell_type": "markdown",
      "metadata": {
        "id": "9z9yr5QkeyJF"
      },
      "source": [
        "### Test 4  time test  measure the execution time running with the the largest worst cases input11.txt  (200000 increasing numbers) and input12.txt (199998 increasing numbers and  200000, 200000 at the end)"
      ]
    },
    {
      "cell_type": "code",
      "source": [
        "# input11.txt 200000 increasing numbers:  1 2 .. 200000\n",
        "\n",
        "%%writefile WriteTest.cpp\n",
        "\n",
        "#include <iostream>\n",
        "#include <fstream>\n",
        "#include <cstdlib>\n",
        "\n",
        "using namespace std;\n",
        "\n",
        "int main() {\n",
        "  // Create and open a text file\n",
        "  ofstream MyFile(\"input11.txt\");\n",
        "\n",
        " MyFile << 200000 <<\"\\n\";  // n\n",
        " for (int i=1; i <200001; i++){\n",
        "     MyFile << i <<\" \";\n",
        " }\n",
        "\n",
        "  // Close the file\n",
        "  MyFile.close();\n",
        "}"
      ],
      "metadata": {
        "colab": {
          "base_uri": "https://localhost:8080/"
        },
        "id": "UmB1ipWM_nSk",
        "outputId": "7a0f7ce2-15ee-40f8-c56f-701807d9d6fe"
      },
      "execution_count": null,
      "outputs": [
        {
          "output_type": "stream",
          "name": "stdout",
          "text": [
            "Writing WriteTest.cpp\n"
          ]
        }
      ]
    },
    {
      "cell_type": "code",
      "execution_count": null,
      "metadata": {
        "id": "EH25TkOkZfD9"
      },
      "outputs": [],
      "source": [
        "!g++ WriteTest.cpp -o WriteTest\n",
        "!./WriteTest"
      ]
    },
    {
      "cell_type": "code",
      "source": [
        "199999 * 200000"
      ],
      "metadata": {
        "colab": {
          "base_uri": "https://localhost:8080/"
        },
        "id": "j0mokSOnCCtZ",
        "outputId": "2f9f0596-114e-4071-e03e-6251910786e2"
      },
      "execution_count": null,
      "outputs": [
        {
          "output_type": "execute_result",
          "data": {
            "text/plain": [
              "39999800000"
            ]
          },
          "metadata": {},
          "execution_count": 50
        }
      ]
    },
    {
      "cell_type": "code",
      "source": [
        "%%writefile output11.txt\n",
        "39999800000"
      ],
      "metadata": {
        "id": "VoDhDV73B5Mo",
        "colab": {
          "base_uri": "https://localhost:8080/"
        },
        "outputId": "3f0ae15a-3a57-4176-f3f4-47a5d30b97d1"
      },
      "execution_count": null,
      "outputs": [
        {
          "output_type": "stream",
          "name": "stdout",
          "text": [
            "Writing output11.txt\n"
          ]
        }
      ]
    },
    {
      "cell_type": "code",
      "execution_count": null,
      "metadata": {
        "colab": {
          "base_uri": "https://localhost:8080/"
        },
        "id": "oLiMjbAIfPlX",
        "outputId": "21261606-d065-4264-e3a5-10c19de77f55"
      },
      "outputs": [
        {
          "output_type": "stream",
          "name": "stdout",
          "text": [
            "Overwriting WriteTest.cpp\n"
          ]
        }
      ],
      "source": [
        "# input12.txt 200000 decreasing numbers and 200000, 199999 ...  2 1\n",
        "\n",
        "%%writefile WriteTest.cpp\n",
        "\n",
        "#include <iostream>\n",
        "#include <fstream>\n",
        "#include <cstdlib>\n",
        "\n",
        "using namespace std;\n",
        "\n",
        "int main() {\n",
        "  // Create and open a text file\n",
        "  ofstream MyFile(\"input12.txt\");\n",
        "\n",
        " MyFile << 200000 <<\"\\n\";  // n\n",
        " for (int i=1; i <200001; i++){\n",
        "     MyFile << 200001-i <<\" \";\n",
        " }\n",
        "\n",
        "  // Close the file\n",
        "  MyFile.close();\n",
        "}"
      ]
    },
    {
      "cell_type": "code",
      "source": [
        "!g++ WriteTest.cpp -o WriteTest\n",
        "!./WriteTest"
      ],
      "metadata": {
        "id": "oULNBr_zAd9c"
      },
      "execution_count": null,
      "outputs": []
    },
    {
      "cell_type": "code",
      "source": [
        "%%writefile output12.txt\n",
        "39999800000"
      ],
      "metadata": {
        "colab": {
          "base_uri": "https://localhost:8080/"
        },
        "id": "PQLyocaFB-y4",
        "outputId": "2dac40cc-2bdf-4f2c-9404-24e5a9ad18be"
      },
      "execution_count": null,
      "outputs": [
        {
          "output_type": "stream",
          "name": "stdout",
          "text": [
            "Writing output12.txt\n"
          ]
        }
      ]
    },
    {
      "cell_type": "markdown",
      "metadata": {
        "id": "JB6f03qO-lj9"
      },
      "source": [
        "### Measure time\n",
        "\n",
        "https://askubuntu.com/questions/53444/how-can-i-measure-the-execution-time-of-a-terminal-process"
      ]
    },
    {
      "cell_type": "code",
      "execution_count": null,
      "metadata": {
        "colab": {
          "base_uri": "https://localhost:8080/"
        },
        "id": "6p2QLEr576zk",
        "outputId": "3a5231b6-688b-4ee8-b6e3-38500dd8dc6b"
      },
      "outputs": [
        {
          "output_type": "stream",
          "name": "stdout",
          "text": [
            "39999800000  real\t4m56.082s user\t4m53.554s sys\t0m0.086s\n",
            "^C\n"
          ]
        }
      ],
      "source": [
        "!g++ max_pairwise_product_long_full.cpp -o max_pairwise_product_long_full\n",
        "!time ./max_pairwise_product_long_full< input11.txt"
      ]
    },
    {
      "cell_type": "code",
      "source": [
        "!g++ max_pairwise_product_long_full.cpp -o max_pairwise_product_long_full\n",
        "!time ./max_pairwise_product_long_full< input12.txt"
      ],
      "metadata": {
        "id": "cnjCyeUdAnZj",
        "colab": {
          "base_uri": "https://localhost:8080/"
        },
        "outputId": "23af0eca-b7cc-4419-c0a1-deecc44a013c"
      },
      "execution_count": 77,
      "outputs": [
        {
          "output_type": "stream",
          "name": "stdout",
          "text": [
            "2147483646\n",
            "\n",
            "real\t5m8.024s\n",
            "user\t5m4.727s\n",
            "sys\t0m0.083s\n"
          ]
        }
      ]
    },
    {
      "cell_type": "markdown",
      "metadata": {
        "id": "FXClpBsUJuXC"
      },
      "source": [
        "### Calculate the number or and upper bound to the number of instructions executed by the algorithm as a function of n, add in each line a comment with the number of instructions that are executed in that line."
      ]
    },
    {
      "cell_type": "code",
      "execution_count": null,
      "metadata": {
        "colab": {
          "base_uri": "https://localhost:8080/"
        },
        "id": "uG6Mv-Pwlkii",
        "outputId": "b9a756cb-f081-49f2-e668-a3b43cdad64b"
      },
      "outputs": [
        {
          "output_type": "stream",
          "name": "stdout",
          "text": [
            "Overwriting max_pairwise_product_long_full.cpp\n"
          ]
        }
      ],
      "source": [
        "%%writefile max_pairwise_product_long_full.cpp\n",
        "#include <iostream>\n",
        "#include <vector>\n",
        "#include <algorithm>\n",
        "\n",
        "long long MaxPairwiseProduct(const std::vector<int>& numbers) {              //INSTRUCTIONS executed by line\n",
        "    long long max_product = 0LL;                                             //1\n",
        "\t  long long aux_product = 0LL;                                             //1\n",
        "    int n = numbers.size();                                                  //1\n",
        "\n",
        "    for (int first = 0; first < n; ++first) {                                //2+2n\n",
        "        for (int second = 0; second < n; ++second) {                         //2n + 2n**2\n",
        "          if ( first != second ){                                            //n**2\n",
        "                aux_product = numbers[first] * numbers[second];              //n**2 -n\n",
        "                if (aux_product > max_product)                               //n**2 -n\n",
        "                    max_product = aux_product;                               //[0, n**2/2 - n/2] upper bound\n",
        "          }\n",
        "        }\n",
        "    }\n",
        "\n",
        "                                                                             // --------------\n",
        "    return max_product;                                                      // 5 + 2*n + [5*n**2, 11*n**2/2  - n/2]  upper bound\n",
        "}\n",
        "\n",
        "int main() {                                              //INSTRUCTIONS executed by line\n",
        "    int n;                                                //1\n",
        "    std::cin >> n;                                        //1\n",
        "    std::vector<int> numbers(n);                          //n\n",
        "    for (int i = 0; i < n; ++i) {                         //2 + 2n\n",
        "        std::cin >> numbers[i];                           //n\n",
        "    }\n",
        "\n",
        "    std::cout << MaxPairwiseProduct(numbers) << \"\\n\";     //1 + 1  + 5 + 2*n + [5*n**2, 11*n**2/2  - n/2]\n",
        "\n",
        "    return 0;                                             // --------------\n",
        "}                                                         //  11 + 6*n + [5*n**2, 11*n**2/2  - n/2]  upper bound\n"
      ]
    },
    {
      "cell_type": "markdown",
      "metadata": {
        "id": "0vTsUg8OwcHs"
      },
      "source": [
        "### Count executed intructions in code"
      ]
    },
    {
      "cell_type": "code",
      "execution_count": null,
      "metadata": {
        "colab": {
          "base_uri": "https://localhost:8080/"
        },
        "id": "CuRKkqQc137V",
        "outputId": "70034546-6658-4d33-dc7d-c2918c426158"
      },
      "outputs": [
        {
          "output_type": "stream",
          "name": "stdout",
          "text": [
            "Writing max_pairwise_product_long_full_execints.cpp\n"
          ]
        }
      ],
      "source": [
        "%%writefile max_pairwise_product_long_full_execints.cpp\n",
        "#include <iostream>\n",
        "#include <vector>\n",
        "#include <algorithm>\n",
        "\n",
        "long long MaxPairwiseProduct(const std::vector<int>& numbers, long long &execints) {      //INSTRUCTIONS executed by line\n",
        "\n",
        "    long long max_product = 0LL;                                                          //1\n",
        "    execints++;\n",
        "\n",
        "\t  long long aux_product = 0LL;                                                          //1\n",
        "    execints++;\n",
        "\n",
        "    int n = numbers.size();                                                               //1\n",
        "    execints++;\n",
        "\n",
        "    execints++;\n",
        "    for (int first = 0; first < n; ++first) {                                             //2+2n\n",
        "        execints += 2;\n",
        "\n",
        "        execints++;\n",
        "        for (int second = 0; second < n; ++second) {                                       //2n + 2n**2\n",
        "          execints += 2;\n",
        "\n",
        "          execints++;\n",
        "          if ( first != second ){                                                         //n**2\n",
        "                aux_product = numbers[first] * numbers[second];                           //n**2 -n\n",
        "                execints++;\n",
        "\n",
        "                execints++;\n",
        "                if (aux_product > max_product){                                           //n**2 -n\n",
        "                    max_product = aux_product;                                            //[0,n**2/2 - n/2)  upper bound\n",
        "                    execints++;\n",
        "\n",
        "                }\n",
        "        }\n",
        "\n",
        "      }\n",
        "      execints++;\n",
        "    }\n",
        "    execints++;\n",
        "                                                                                        // --------------\n",
        "    return max_product;                                                                 // 5 + 2*n + [5*n**2, 11*n**2/2  - n/2] upper bound\n",
        "}\n",
        "\n",
        "int main() {                                                 //INSTRUCTIONS executed by line\n",
        "\n",
        "    long long execints =0LL;\n",
        "\n",
        "    int n;                                                   //1\n",
        "    execints++;\n",
        "\n",
        "    std::cin >> n;                                           //1\n",
        "    execints++;\n",
        "\n",
        "    std::vector<int> numbers(n);                             //n\n",
        "    execints += n;\n",
        "\n",
        "    execints++;\n",
        "    for (int i = 0; i < n; ++i) {                            //2 + 2n\n",
        "        execints += 2;\n",
        "\n",
        "        std::cin >> numbers[i];\n",
        "        execints++;                                          //n\n",
        "\n",
        "    }\n",
        "\n",
        "\n",
        "    //std::cout << MaxPairwiseProduct(numbers) << \"\\n\";      //1 + 1  + 5 + 2*n + [5*n**2, 11*n**2/2  - n/2] upper bound\n",
        "\n",
        "    execints++;\n",
        "    int M = MaxPairwiseProduct(numbers,execints);\n",
        "\n",
        "    execints++;\n",
        "    std::cout <<  execints << \"\\n\";\n",
        "    return 0;                                                // --------------\n",
        "}                                                            // 11 + 6*n + [5*n**2, 11*n**2/2  - n/2]"
      ]
    },
    {
      "cell_type": "markdown",
      "source": [
        "The number of instructions executed by the algooirithm with a list of size $n$ is  \n",
        "\n",
        "$$T (n) = 11 + 6n + \\left[5n^2, 11\\frac{n^2}{2}  - \\frac{n}{2}\\right)  >  6n^2 = O(n^2)$$\n",
        "\n",
        "It depends on the size of the lists and  the order of the list.\n",
        "\n",
        "For the input0.txt\n",
        "```\n",
        "10\n",
        "0 0 0 0 0 0 0 0 0 0\n",
        "```\n",
        "$$T = 11 + 6(10) + 5(10)^2   = 561 $$\n",
        "\n",
        "$$T(10) \\in [571, 621)  $$\n"
      ],
      "metadata": {
        "id": "cUjHtvtdDsmr"
      }
    },
    {
      "cell_type": "code",
      "source": [
        "!g++ max_pairwise_product_long_full_execints.cpp -o max_pairwise_product_long_full_execints\n",
        "!./max_pairwise_product_long_full_execints < input0.txt"
      ],
      "metadata": {
        "colab": {
          "base_uri": "https://localhost:8080/"
        },
        "id": "Om9Fevb0miAT",
        "outputId": "34f0194e-f625-44ff-ea95-956acf88d027"
      },
      "execution_count": null,
      "outputs": [
        {
          "output_type": "stream",
          "name": "stdout",
          "text": [
            "570\n"
          ]
        }
      ]
    },
    {
      "cell_type": "markdown",
      "source": [
        "For the input1.txt\n",
        "```\n",
        "10\n",
        "1 2 3 4 5 6 7 8 9 10\n",
        "```\n",
        "$$T = 11 + 6(10) + 5(10)^2 +  9 + 5 + 4 + 3 + 2 + 2 + 2 + 2 + 1 + 0  = 601 $$\n",
        "\n",
        "$$T(10) \\in [572, 622)  $$\n"
      ],
      "metadata": {
        "id": "FwJzZ6VzmArY"
      }
    },
    {
      "cell_type": "code",
      "source": [
        "#The number of times that  max_product = aux_product; in the worst case is less than (n**2 -n)/2 -  upper bound\n",
        "\n",
        "#     1  2  3  4  5  6  7  8  9  10\n",
        "#  1  x  2  3  4  5  6  7  8  9  10         9\n",
        "#  2  2  x  6  8  10 12 14 16 18 20         5 14\n",
        "#  3  3  6  x  12 15 18 21 24 27 30         4 18\n",
        "#  4  4  8  12 x  20 24 28 32 36 40         3 21\n",
        "#  5  5  10 15 20 x  30 35 40 45 50         2 23\n",
        "#  6  6  12 18 24 30 x  42 48 54 60         2 25\n",
        "#  7  7  14 21 28 35 42 x  56 63 70         2 27\n",
        "#  8  8  18 27 36 45 54 63 72 x  90         1 30\n",
        "#  10 10 20 30 40 50 60 70 60 90 x          0"
      ],
      "metadata": {
        "id": "K59xQMWiBNFj"
      },
      "execution_count": null,
      "outputs": []
    },
    {
      "cell_type": "code",
      "source": [
        "11 + 6*(10) + 5*(10)*(10) +  9 + 5 + 4 + 3 + 2 + 2 + 2 + 2 + 1 + 0"
      ],
      "metadata": {
        "colab": {
          "base_uri": "https://localhost:8080/"
        },
        "id": "E3O8dzFfEgir",
        "outputId": "518bcd8e-4486-4328-81d7-6624d86a315a"
      },
      "execution_count": null,
      "outputs": [
        {
          "output_type": "execute_result",
          "data": {
            "text/plain": [
              "601"
            ]
          },
          "metadata": {},
          "execution_count": 65
        }
      ]
    },
    {
      "cell_type": "code",
      "source": [
        "n = 10\n",
        "print( \"[\", 11 + 6*n + 5*n**2,  \",\", 11 + 6*n  + 5.5*n**2, \")\")"
      ],
      "metadata": {
        "colab": {
          "base_uri": "https://localhost:8080/"
        },
        "id": "TCpdl5u_Gq1a",
        "outputId": "16891145-82a3-48b9-fc8e-0b18ee9ffabd"
      },
      "execution_count": null,
      "outputs": [
        {
          "output_type": "stream",
          "name": "stdout",
          "text": [
            "[ 571 , 621.0 )\n"
          ]
        }
      ]
    },
    {
      "cell_type": "code",
      "execution_count": null,
      "metadata": {
        "colab": {
          "base_uri": "https://localhost:8080/"
        },
        "id": "Kuvm1C05ly2a",
        "outputId": "9c0c83d2-14c1-424d-b42d-7af4cda6fb04"
      },
      "outputs": [
        {
          "output_type": "stream",
          "name": "stdout",
          "text": [
            "600\n"
          ]
        }
      ],
      "source": [
        "!g++ max_pairwise_product_long_full_execints.cpp -o max_pairwise_product_long_full_execints\n",
        "!./max_pairwise_product_long_full_execints < input1.txt"
      ]
    },
    {
      "cell_type": "markdown",
      "source": [
        "\n",
        "For the input2.txt\n",
        "```\n",
        "10\n",
        "10 9 8 7 6 5 4 3 2 1\n",
        "```\n",
        "$$T = 11 + 6*(10) + 5*(10)**2 +  1  = 571 $$"
      ],
      "metadata": {
        "id": "Yr_Lb7CaHfxB"
      }
    },
    {
      "cell_type": "code",
      "source": [
        "11 + 6*(10) + 5*(10)**2 +  1"
      ],
      "metadata": {
        "colab": {
          "base_uri": "https://localhost:8080/"
        },
        "id": "HOdqlwJiZUIp",
        "outputId": "6ae5d494-cfff-470b-b9d8-b989ca8425a8"
      },
      "execution_count": null,
      "outputs": [
        {
          "output_type": "execute_result",
          "data": {
            "text/plain": [
              "572"
            ]
          },
          "metadata": {},
          "execution_count": 68
        }
      ]
    },
    {
      "cell_type": "code",
      "source": [
        "!g++ max_pairwise_product_long_full_execints.cpp -o max_pairwise_product_long_full_execints\n",
        "!./max_pairwise_product_long_full_execints < input2.txt"
      ],
      "metadata": {
        "id": "_znzLectjFSe",
        "colab": {
          "base_uri": "https://localhost:8080/"
        },
        "outputId": "702d2744-251f-49e6-a07d-226900d8db3c"
      },
      "execution_count": null,
      "outputs": [
        {
          "output_type": "stream",
          "name": "stdout",
          "text": [
            "571\n"
          ]
        }
      ]
    },
    {
      "cell_type": "markdown",
      "metadata": {
        "id": "NXW7QkoBL6xH"
      },
      "source": [
        "Calculate estimated time by instruction and number of instructions by second"
      ]
    },
    {
      "cell_type": "markdown",
      "source": [
        "For the input11.txt\n",
        "```\n",
        "200000\n",
        "1 2 ..  199999 2000\n",
        "```\n",
        "$$T = 11 + 6*(200000) + 5.5*(200000)**2  = 200001200012  $$"
      ],
      "metadata": {
        "id": "dlyRjaohz-YH"
      }
    },
    {
      "cell_type": "code",
      "source": [
        "!g++ max_pairwise_product_long_full_execints.cpp -o max_pairwise_product_long_full_execints\n",
        "!./max_pairwise_product_long_full_execints < input11.txt"
      ],
      "metadata": {
        "colab": {
          "base_uri": "https://localhost:8080/"
        },
        "id": "BMH8mF3EKn2w",
        "outputId": "d48bb414-e208-4aaf-fd68-8dc524b99430"
      },
      "execution_count": null,
      "outputs": [
        {
          "output_type": "stream",
          "name": "stdout",
          "text": [
            "200003177092\n",
            "^C\n"
          ]
        }
      ]
    },
    {
      "cell_type": "code",
      "execution_count": null,
      "metadata": {
        "colab": {
          "base_uri": "https://localhost:8080/"
        },
        "id": "pKqB3i7dIxnc",
        "outputId": "88670be9-1145-4d0f-f921-a6de9dff1455"
      },
      "outputs": [
        {
          "output_type": "execute_result",
          "data": {
            "text/plain": [
              "1.4749765693187072e-09"
            ]
          },
          "metadata": {},
          "execution_count": 71
        }
      ],
      "source": [
        "# Estimated time by instruction\n",
        "# use the real reported  !time ./max_pairwise_product_long_full< input11.txt in seconds intead of the 295\n",
        "\n",
        "295/200003177092\n"
      ]
    },
    {
      "cell_type": "code",
      "execution_count": null,
      "metadata": {
        "colab": {
          "base_uri": "https://localhost:8080/"
        },
        "id": "18N1ouqeMhE1",
        "outputId": "f534d724-dfa4-44bc-8c3d-67f34a6dc994"
      },
      "outputs": [
        {
          "output_type": "execute_result",
          "data": {
            "text/plain": [
              "677976871.4983051"
            ]
          },
          "metadata": {},
          "execution_count": 72
        }
      ],
      "source": [
        "# Estimated number of instructions by second\n",
        "\n",
        "200003177092/295"
      ]
    },
    {
      "cell_type": "markdown",
      "source": [
        "### Estimate and verify the maximun n that can be solved in 1 second\n",
        "\n",
        "$$(5.5n^2 + 5.5n + 11) \\times 1.47*10^{-9} s = 1 s$$\n",
        "\n",
        "$$ n \\approx 11000$$\n"
      ],
      "metadata": {
        "id": "KyuxejFkL5X_"
      }
    },
    {
      "cell_type": "code",
      "source": [
        "# Verify input13.txt\n",
        "%%writefile WriteTest.cpp\n",
        "\n",
        "#include <iostream>\n",
        "#include <fstream>\n",
        "#include <cstdlib>\n",
        "\n",
        "using namespace std;\n",
        "\n",
        "int main() {\n",
        "  // Create and open a text file\n",
        "  ofstream MyFile(\"input13.txt\");\n",
        "\n",
        " MyFile << 11000 <<\"\\n\";  // n\n",
        " for (int i=1; i <11001; i++){\n",
        "     MyFile << i <<\" \";\n",
        " }\n",
        "\n",
        "  // Close the file\n",
        "  MyFile.close();\n",
        "}"
      ],
      "metadata": {
        "colab": {
          "base_uri": "https://localhost:8080/"
        },
        "id": "WXu5jp-DLTOI",
        "outputId": "2999a116-cc73-49db-a193-6f66e8b8d180"
      },
      "execution_count": null,
      "outputs": [
        {
          "output_type": "stream",
          "name": "stdout",
          "text": [
            "Overwriting WriteTest.cpp\n"
          ]
        }
      ]
    },
    {
      "cell_type": "code",
      "source": [
        "!g++ WriteTest.cpp -o WriteTest\n",
        "!./WriteTest"
      ],
      "metadata": {
        "id": "AQ8N52pUMCeT"
      },
      "execution_count": null,
      "outputs": []
    },
    {
      "cell_type": "code",
      "source": [
        "10999 * 11000"
      ],
      "metadata": {
        "colab": {
          "base_uri": "https://localhost:8080/"
        },
        "id": "2iIOdbTrEtBx",
        "outputId": "004daaa0-b676-4408-dd85-a504d8c6c441"
      },
      "execution_count": null,
      "outputs": [
        {
          "output_type": "execute_result",
          "data": {
            "text/plain": [
              "120989000"
            ]
          },
          "metadata": {},
          "execution_count": 75
        }
      ]
    },
    {
      "cell_type": "code",
      "source": [
        "!g++ max_pairwise_product_long_full.cpp -o max_pairwise_product_long_full\n",
        "!time ./max_pairwise_product_long_full< input13.txt"
      ],
      "metadata": {
        "colab": {
          "base_uri": "https://localhost:8080/"
        },
        "id": "ussuAokfM2du",
        "outputId": "ff25fb42-76d4-474c-9eb9-ddd06fdfac9f"
      },
      "execution_count": null,
      "outputs": [
        {
          "output_type": "stream",
          "name": "stdout",
          "text": [
            "120989000\n",
            "\n",
            "real\t0m0.856s\n",
            "user\t0m0.851s\n",
            "sys\t0m0.001s\n"
          ]
        }
      ]
    },
    {
      "cell_type": "markdown",
      "metadata": {
        "id": "Tm_AVmt-QQH4"
      },
      "source": [
        "## Python"
      ]
    },
    {
      "cell_type": "code",
      "execution_count": 78,
      "metadata": {
        "id": "gRCCcd7IQTKZ",
        "colab": {
          "base_uri": "https://localhost:8080/"
        },
        "outputId": "aade9c76-4601-4093-c7c9-9a30e58aa033"
      },
      "outputs": [
        {
          "metadata": {
            "tags": null
          },
          "name": "stdout",
          "output_type": "stream",
          "text": [
            "Writing max_pairwise_product_full.py\n"
          ]
        }
      ],
      "source": [
        "%%writefile max_pairwise_product_full.py\n",
        "n = int(input())                        #1\n",
        "list = input().split()                  #1\n",
        "list = [int(x) for x in list]           #n\n",
        "\n",
        "maxProduct = 0                          #1\n",
        "auxProduct = 0                          #1\n",
        "for i in range(0,n):                    #1+2n\n",
        "  for j in range(0,n):                  #n + 2n**2\n",
        "    if i!=j:                            #n**2\n",
        "      auxProduct = list[i]*list[j]      #n**2 -n\n",
        "    if maxProduct < auxProduct:         #n**2 -n\n",
        "      maxProduct = auxProduct           #[1, n**2/2 - n/2] upper bound\n",
        "\n",
        "                                        # --------------\n",
        "print(maxProduct)                       #5 + 3n + [5*n**2+1, 11*n**2/2  - n/2]  upper bound"
      ]
    },
    {
      "cell_type": "code",
      "execution_count": 79,
      "metadata": {
        "id": "kAEAoNZEQTCw",
        "colab": {
          "base_uri": "https://localhost:8080/"
        },
        "outputId": "57628fe7-b321-4b94-9140-147fb280b147"
      },
      "outputs": [
        {
          "output_type": "stream",
          "name": "stdout",
          "text": [
            "chmod: cannot access 'max_pairwise_product_full_py': No such file or directory\n",
            "/bin/bash: line 1: input6.txt: No such file or directory\n",
            "/bin/bash: line 1: input7.txt: No such file or directory\n",
            "/bin/bash: line 1: input8.txt: No such file or directory\n"
          ]
        }
      ],
      "source": [
        "!chmod +x max_pairwise_product_full_py\n",
        "\n",
        "!python max_pairwise_product_full.py < input3.txt > output3.txt\n",
        "!python max_pairwise_product_full.py < input4.txt > output4.txt\n",
        "!python max_pairwise_product_full.py < input5.txt > output5.txt\n",
        "!python max_pairwise_product_full.py < input6.txt > output6.txt\n",
        "!python max_pairwise_product_full.py < input7.txt > output7.txt\n",
        "!python max_pairwise_product_full.py < input8.txt > output8.txt\n",
        "!python max_pairwise_product_full.py < input9.txt > output9.txt\n",
        "!python max_pairwise_product_full.py < input10.txt > output10.txt"
      ]
    },
    {
      "cell_type": "code",
      "execution_count": null,
      "metadata": {
        "id": "hjw7TJrDL0d-"
      },
      "outputs": [],
      "source": [
        "# Verify"
      ]
    },
    {
      "cell_type": "markdown",
      "source": [
        "# For the follwing solutions rquired  the same tests and analysis performed for the first solution"
      ],
      "metadata": {
        "id": "fEZR-3V4ZjCv"
      }
    },
    {
      "cell_type": "markdown",
      "metadata": {
        "id": "MKQKSC-vKePK"
      },
      "source": [
        "## Solutions in C++ and Python that uses\n",
        "$$\\frac{n^2 - n}{2} = O(n^2)\\ \\ \\text{products}$$"
      ]
    },
    {
      "cell_type": "code",
      "execution_count": 80,
      "metadata": {
        "id": "jkkHHoxSK65p",
        "colab": {
          "base_uri": "https://localhost:8080/"
        },
        "outputId": "0e9d322c-2ebb-4e67-f0e0-1e50bb98c288"
      },
      "outputs": [
        {
          "output_type": "stream",
          "name": "stdout",
          "text": [
            "Writing max_pairwise_product.cpp\n"
          ]
        }
      ],
      "source": [
        "%%writefile max_pairwise_product.cpp\n",
        "#include <iostream>\n",
        "#include <vector>\n",
        "#include <algorithm>\n",
        "\n",
        "int MaxPairwiseProduct(const std::vector<int>& numbers) {\n",
        "    int max_product = 0;\n",
        "    int n = numbers.size();\n",
        "\n",
        "    for (int first = 0; first < n; ++first) {\n",
        "        for (int second = first + 1; second < n; ++second) {\n",
        "            max_product = std::max(max_product,\n",
        "                numbers[first] * numbers[second]);\n",
        "        }\n",
        "    }\n",
        "\n",
        "    return max_product;\n",
        "}\n",
        "\n",
        "int main() {\n",
        "    int n;\n",
        "    std::cin >> n;\n",
        "    std::vector<int> numbers(n);\n",
        "    for (int i = 0; i < n; ++i) {\n",
        "        std::cin >> numbers[i];\n",
        "    }\n",
        "\n",
        "    std::cout << MaxPairwiseProduct(numbers) << \"\\n\";\n",
        "    return 0;\n",
        "}"
      ]
    },
    {
      "cell_type": "code",
      "execution_count": 81,
      "metadata": {
        "id": "sU8-Ote7K8vz",
        "colab": {
          "base_uri": "https://localhost:8080/"
        },
        "outputId": "fbe22d99-307b-4b2b-fb45-dff1da57e553"
      },
      "outputs": [
        {
          "output_type": "stream",
          "name": "stdout",
          "text": [
            "Writing max_pairwise_product_long.cpp\n"
          ]
        }
      ],
      "source": [
        "%%writefile max_pairwise_product_long.cpp\n",
        "#include <iostream>\n",
        "#include <vector>\n",
        "#include <algorithm>\n",
        "\n",
        "long long MaxPairwiseProduct(const std::vector<int>& numbers) {              //INSTRUCTIONS executed by line\n",
        "    long long max_product = 0LL;                                             //1\n",
        "\t  long long aux_product = 0LL;                                             //1\n",
        "    int n = numbers.size();                                                  //1\n",
        "\n",
        "    for (int first = 0; first < n; ++first) {                                //2+2n\n",
        "        for (int second = first + 1; second < n; ++second) {                 //2n + (n-1)n\n",
        "\t\t\t       aux_product =  (long long) numbers[first] * numbers[second];    //(n-1)n/2\n",
        "            if (max_product < aux_product)  {                                //(n-1)n/2\n",
        "\t\t\t\t        max_product = aux_product;                                   //[1,(n-1)n/2)  upper bound\n",
        "             }\n",
        "        }\n",
        "    }\n",
        "                                                                             // --------------\n",
        "    return max_product;                                                      // 5 + 4n + [2(n-1)n+1, 2.5 (n-1)n) upper bound\n",
        "}\n",
        "\n",
        "int main() {                                              //INSTRUCTIONS executed by line\n",
        "    int n;                                                //1\n",
        "    std::cin >> n;                                        //1\n",
        "    std::vector<int> numbers(n);                          //n\n",
        "    for (int i = 0; i < n; ++i) {                         //2 + 2n\n",
        "        std::cin >> numbers[i];                           //n\n",
        "    }\n",
        "\n",
        "    std::cout << MaxPairwiseProduct(numbers) << \"\\n\";     //1 + 1  + 5 + 4n + [2(n-1)n+1, 2.5 (n-1)n) upper bound\n",
        "    return 0;                                             // --------------\n",
        "}                                                         // 11 + 7n + [2(n-1)n+1, 2.5 (n-1)n) upper bound\n"
      ]
    },
    {
      "cell_type": "markdown",
      "source": [
        "The number of instructions executed by the algorithm with a list of size $n$ is\n",
        "\n",
        "$$T=11 + 7n + [2(n-1)n+1, 2.5 (n-1)n)$$\n",
        "\n",
        "\n",
        "It depends on the size of the lists and the order of the list.\n",
        "\n",
        "For the input1.txt\n",
        "\n",
        "10\n",
        "\n",
        "\n",
        "1 2 3 4 5 6 7 8 9 10\n",
        "\n",
        "$$T(10)\\in [109,306]$$\n"
      ],
      "metadata": {
        "id": "enNU-WuK6ueG"
      }
    },
    {
      "cell_type": "code",
      "execution_count": 82,
      "metadata": {
        "id": "mxIVvm1RK8dB",
        "colab": {
          "base_uri": "https://localhost:8080/"
        },
        "outputId": "f155a19c-e15c-4089-bac8-307da9207546"
      },
      "outputs": [
        {
          "output_type": "stream",
          "name": "stdout",
          "text": [
            "109 306.0\n"
          ]
        }
      ],
      "source": [
        "n = 10\n",
        "print(11 + 7*10+2*(n-1)+n,11 + 7*10+2.5*(n-1)*n)"
      ]
    },
    {
      "cell_type": "code",
      "source": [
        "!g++ max_pairwise_product_long.cpp -o max_pairwise_product_long\n",
        "!./max_pairwise_product_long < input1.txt"
      ],
      "metadata": {
        "colab": {
          "base_uri": "https://localhost:8080/"
        },
        "id": "uW8REIq17FSK",
        "outputId": "4d1f72d8-6fe8-4c81-eb9f-1e67d28b0666"
      },
      "execution_count": 83,
      "outputs": [
        {
          "output_type": "stream",
          "name": "stdout",
          "text": [
            "90\n"
          ]
        }
      ]
    },
    {
      "cell_type": "markdown",
      "source": [
        "**Python**"
      ],
      "metadata": {
        "id": "8ERj3pql7LGG"
      }
    },
    {
      "cell_type": "code",
      "source": [
        "%%writefile max_pairwise_product.py\n",
        "n = int(input())                        #1\n",
        "list = input().split()                  #1\n",
        "list = [int(x) for x in list]           #n\n",
        "\n",
        "maxProduct = 0                          #1\n",
        "auxProduct = 0                          #1\n",
        "for i in range(0,n):                    #1+2n\n",
        "  for j in range(i+1,n):                #((n**2)-n)/2\n",
        "    if i!=j:                            #((n**2)-n)/2\n",
        "      auxProduct = list[i]*list[j]      #((n**2)-n)/2\n",
        "    if maxProduct < auxProduct:         #((n**2)-n)/2\n",
        "      maxProduct = auxProduct           #[0,((n**2)-n)/2] upper bound\n",
        "\n",
        "                                        # --------------\n",
        "print(maxProduct)                       #5 + n + [5*n**2+1, 11*n**2/2  - n/2]"
      ],
      "metadata": {
        "colab": {
          "base_uri": "https://localhost:8080/"
        },
        "id": "b2qpY6Sf7Obi",
        "outputId": "a99faafa-72e3-4bba-ff59-9962e1d7b8c3"
      },
      "execution_count": 84,
      "outputs": [
        {
          "output_type": "stream",
          "name": "stdout",
          "text": [
            "Writing max_pairwise_product.py\n"
          ]
        }
      ]
    },
    {
      "cell_type": "markdown",
      "source": [
        "Creating big input"
      ],
      "metadata": {
        "id": "oG39Xpz57Tw2"
      }
    },
    {
      "cell_type": "code",
      "source": [
        "fileName = \"inputPy.txt\"\n",
        "\n",
        "with open(fileName, \"w\") as file:\n",
        "    file.write(\"20000\"+ \"\\n\")\n",
        "    for i in range(1,20001):\n",
        "        file.write(str(i) + \" \")"
      ],
      "metadata": {
        "id": "QGqXX2ds7W-r"
      },
      "execution_count": 85,
      "outputs": []
    },
    {
      "cell_type": "markdown",
      "source": [
        "Testing our code with previous examples"
      ],
      "metadata": {
        "id": "Xmx9UldP7btL"
      }
    },
    {
      "cell_type": "code",
      "source": [
        "!chmod +x max_pairwise_product.py\n",
        "\n",
        "!python max_pairwise_product.py < input3.txt > output3.txt\n",
        "!python max_pairwise_product.py < input4.txt > output4.txt\n",
        "!python max_pairwise_product.py < input5.txt > output5.txt\n",
        "!python max_pairwise_product.py < input6.txt > output6.txt\n",
        "!python max_pairwise_product.py < input7.txt > output7.txt\n",
        "!python max_pairwise_product.py < input8.txt > output8.txt\n",
        "!python max_pairwise_product.py < input9.txt > output9.txt\n",
        "!python max_pairwise_product.py < input10.txt > output10.txt"
      ],
      "metadata": {
        "colab": {
          "base_uri": "https://localhost:8080/"
        },
        "id": "4_x7GDrj7eTY",
        "outputId": "72c28a6d-5302-4317-d8ca-65c2e8a6e93c"
      },
      "execution_count": 86,
      "outputs": [
        {
          "output_type": "stream",
          "name": "stdout",
          "text": [
            "/bin/bash: line 1: input6.txt: No such file or directory\n",
            "/bin/bash: line 1: input7.txt: No such file or directory\n",
            "/bin/bash: line 1: input8.txt: No such file or directory\n"
          ]
        }
      ]
    },
    {
      "cell_type": "code",
      "source": [
        "import time\n",
        "\n",
        "start_time = time.time()\n",
        "!python max_pairwise_product.py < inputPy.txt\n",
        "\n",
        "end_time = time.time()\n",
        "execution_time = end_time - start_time\n",
        "print(f\"Execution time: {execution_time} segs\")\n",
        "print(f\"Execution time: {execution_time/60} min\")"
      ],
      "metadata": {
        "id": "O5MLY4Mk7iNs"
      },
      "execution_count": 87,
      "outputs": []
    },
    {
      "cell_type": "markdown",
      "source": [
        "Counting the steps for the python program"
      ],
      "metadata": {
        "id": "fC5BwlNa757Q"
      }
    },
    {
      "cell_type": "code",
      "source": [
        "%%writefile max_pairwise_product_count.py\n",
        "op = 0\n",
        "xd =0\n",
        "n = int(input())                        #1\n",
        "op+=1\n",
        "list = input().split()                  #1\n",
        "op+=1\n",
        "list = [int(x) for x in list]           #n\n",
        "op += n\n",
        "\n",
        "maxProduct = 0                          #1\n",
        "op+=1\n",
        "auxProduct = 0                          #1\n",
        "op+=1\n",
        "for i in range(0,n):                    #1+2n\n",
        "  op+=1\n",
        "  op+=2\n",
        "  for j in range(i+1,n):                #((n**2)-n)/2\n",
        "    op+=1\n",
        "    if i!=j:                            #((n**2)-n)/2\n",
        "      auxProduct = list[i]*list[j]      #((n**2)-n)/2\n",
        "      op+=1\n",
        "      op+=1\n",
        "    op+=1\n",
        "    if maxProduct < auxProduct:         #n * (n - 1) / 2\n",
        "      maxProduct = auxProduct           #n * (n - 1) / 3\n",
        "      op+=1\n",
        "\n",
        "                                        # --------------For worst case\n",
        "print(\"Result: \"+str(maxProduct))\n",
        "print(\"Number of instructions: \"+str(op))"
      ],
      "metadata": {
        "colab": {
          "base_uri": "https://localhost:8080/"
        },
        "id": "bx7-zY5t7870",
        "outputId": "a93a83f5-02ef-48be-885a-c357a5659de5"
      },
      "execution_count": 88,
      "outputs": [
        {
          "output_type": "stream",
          "name": "stdout",
          "text": [
            "Writing max_pairwise_product_count.py\n"
          ]
        }
      ]
    },
    {
      "cell_type": "markdown",
      "source": [
        "The number of instructions executed by the algooirithm with a list of size $n$ is\n",
        "\n",
        "$$T=4 + 4n + 2(n(n-1))+(n(n-1)/3)$$\n",
        "\n",
        "It depends on the size of the lists and the order of the list.\n",
        "\n",
        "For the input1.txt\n",
        "\n",
        "10\n",
        "\n",
        "1 2 3 4 5 6 7 8 9 10\n",
        "\n",
        "$$T(10)=255$$"
      ],
      "metadata": {
        "id": "Sr60HDdR8CwN"
      }
    },
    {
      "cell_type": "code",
      "source": [
        "n = 10\n",
        "print(5 + 4*10+2*(n-1)*n + (n*(n-1)/3))"
      ],
      "metadata": {
        "colab": {
          "base_uri": "https://localhost:8080/"
        },
        "id": "Ktq9mLwD8GF9",
        "outputId": "6e90e440-53fe-46be-ebff-292dc2796173"
      },
      "execution_count": 89,
      "outputs": [
        {
          "output_type": "stream",
          "name": "stdout",
          "text": [
            "255.0\n"
          ]
        }
      ]
    },
    {
      "cell_type": "code",
      "source": [
        "%%time\n",
        "!g++ max_pairwise_product_long.cpp -o max_pairwise_product_long\n",
        "!./max_pairwise_product_long < input1.txt"
      ],
      "metadata": {
        "id": "7FU_esY28KGW"
      },
      "execution_count": 91,
      "outputs": []
    },
    {
      "cell_type": "markdown",
      "source": [
        "### Estimate and verify the maximun n that can be solved in 1 second\n",
        "\n"
      ],
      "metadata": {
        "id": "zxCvxiB-XQJh"
      }
    },
    {
      "cell_type": "code",
      "source": [
        "%%time\n",
        "!g++ max_pairwise_product_long.cpp -o max_pairwise_product_long\n",
        "!./max_pairwise_product_long < input1.txt"
      ],
      "metadata": {
        "id": "Su8drkhrZwcp",
        "colab": {
          "base_uri": "https://localhost:8080/"
        },
        "outputId": "9f0afc3b-99ca-4826-ef5a-2e465736037e"
      },
      "execution_count": 91,
      "outputs": [
        {
          "output_type": "stream",
          "name": "stdout",
          "text": [
            "90\n",
            "CPU times: user 12.2 ms, sys: 2.07 ms, total: 14.2 ms\n",
            "Wall time: 813 ms\n"
          ]
        }
      ]
    },
    {
      "cell_type": "code",
      "source": [
        "%%time\n",
        "!python max_pairwise_product_count.py < input11.txt"
      ],
      "metadata": {
        "id": "3lmEihH98Y98"
      },
      "execution_count": 93,
      "outputs": []
    },
    {
      "cell_type": "code",
      "source": [
        "time_per_ins = 0.001111 / 231\n",
        "instructions_per_second = 1 / time_per_ins\n",
        "print(f\"Time per instruction Python: {time_per_ins}\")\n",
        "print(f\"Instructions per second Python: {instructions_per_second}\")\n",
        "time_per_ins = 0.00325/ 254\n",
        "instructions_per_second = 1 / time_per_ins\n",
        "print(f\"Time per instruction C++: {time_per_ins}\")\n",
        "print(f\"Instructions per second C++: {instructions_per_second}\")"
      ],
      "metadata": {
        "colab": {
          "base_uri": "https://localhost:8080/"
        },
        "id": "rBwtoVzB8e3x",
        "outputId": "2bcdd9a5-6d6e-44fb-fd62-a99604e5e701"
      },
      "execution_count": 93,
      "outputs": [
        {
          "output_type": "stream",
          "name": "stdout",
          "text": [
            "Time per instruction Python: 4.80952380952381e-06\n",
            "Instructions per second Python: 207920.7920792079\n",
            "Time per instruction C++: 1.279527559055118e-05\n",
            "Instructions per second C++: 78153.84615384616\n"
          ]
        }
      ]
    },
    {
      "cell_type": "markdown",
      "metadata": {
        "id": "1Hsbd-uHOb_j"
      },
      "source": [
        "# Sort solution in C++ and Python\n",
        "\n",
        "$$ O(n \\lg n)$$\n",
        "\n",
        "**Which sorting algorithm is used in GCC?**\n",
        "https://stackoverflow.com/questions/7221257/which-sorting-algorithm-is-used-in-gcc\n",
        "\n",
        "* ...  the algorithm is called introsort, a combination between Insertionsort, Quicksort & Heapsort. ...\n",
        "\n",
        "**Introsort**\n",
        "https://en.wikipedia.org/wiki/Introsort\n",
        "\n",
        "Introsort or introspective sort is a hybrid sorting algorithm that provides both fast average performance and (asymptotically) optimal worst-case performance. It begins with quicksort, it switches to heapsort when the recursion depth exceeds a level based on (the logarithm of) the number of elements being sorted and it switches to insertion sort when the number of elements is below some threshold\n",
        "\n",
        "*   Class\tSorting algorithm\n",
        "*   Data structure\tArray\n",
        "*   Worst-case performance\t$O(n \\lg n)$\n",
        "*   Average performance\t$O(n \\lg n)$\n",
        "\n",
        "**Timsort**\n",
        "https://en.wikipedia.org/wiki/Timsort\n",
        "\n",
        "Timsort is a hybrid, stable sorting algorithm, derived from merge sort and insertion sort, designed to perform well on many kinds of real-world data. It was implemented by Tim Peters in 2002 for use in the Python programming language.\n",
        "\n",
        "*   Class\tSorting algorithm\n",
        "*   Data structure\tArray\n",
        "*   Worst-case performance\t$O(n \\lg n)$\n",
        "*   Best-case performance $O(n)$\n",
        "*   Average performance\t$O(n \\lg n)$\n",
        "*   Worst-case space complexity $O(n)$"
      ]
    },
    {
      "cell_type": "markdown",
      "metadata": {
        "id": "WMUthAXjOb_k"
      },
      "source": []
    },
    {
      "cell_type": "code",
      "source": [
        "%%writefile max_pairwise_product_sort.cpp\n",
        "#include <iostream>\n",
        "#include <vector>\n",
        "#include <algorithm>\n",
        "\n",
        "// Function to calculate the maximum pairwise product using sorting\n",
        "\n",
        "long long MaxPairwiseProduct(const std::vector<long long>& numbers) {\n",
        "    int n = numbers.size();\n",
        "\n",
        "    // Create a copy of the original vector to avoid modifying it\n",
        "    std::vector<long long> sorted_numbers(numbers);\n",
        "\n",
        "    // Sort the vector in ascending order\n",
        "    std::sort(sorted_numbers.begin(), sorted_numbers.end());\n",
        "\n",
        "    // Calculate the product of the two largest numbers\n",
        "    long long max_product = sorted_numbers[n - 1] * sorted_numbers[n - 2];\n",
        "\n",
        "    return max_product;\n",
        "}\n",
        "\n",
        "int main() {\n",
        "    int n;\n",
        "    std::cin >> n;\n",
        "    std::vector<long long> numbers(n);\n",
        "\n",
        "    // Input the numbers\n",
        "    for (int i = 0; i < n; ++i) {\n",
        "        std::cin >> numbers[i];\n",
        "    }\n",
        "\n",
        "    // Output the result\n",
        "    std::cout << MaxPairwiseProduct(numbers) << \"\\n\";\n",
        "    return 0;\n",
        "}\n"
      ],
      "metadata": {
        "id": "jnIRWyUEDu_C",
        "colab": {
          "base_uri": "https://localhost:8080/"
        },
        "outputId": "b1680056-1993-4ac0-f58c-7e307d663127"
      },
      "execution_count": 94,
      "outputs": [
        {
          "output_type": "stream",
          "name": "stdout",
          "text": [
            "Writing max_pairwise_product_sort.cpp\n"
          ]
        }
      ]
    },
    {
      "cell_type": "code",
      "source": [
        "!g++ -o max_pairwise_product_sort max_pairwise_product_sort.cpp\n",
        "!chmod +x max_pairwise_product_sort.cpp\n",
        "!ls -l max_pairwise_product_sort.cpp max_pairwise_product_sort\n"
      ],
      "metadata": {
        "colab": {
          "base_uri": "https://localhost:8080/"
        },
        "id": "iL6LzNzA8w6h",
        "outputId": "b71ee767-0c73-49a5-fec0-97134f6a852b"
      },
      "execution_count": 95,
      "outputs": [
        {
          "output_type": "stream",
          "name": "stdout",
          "text": [
            "-rwxr-xr-x 1 root root 40888 Dec  4 04:34 max_pairwise_product_sort\n",
            "-rwxr-xr-x 1 root root   886 Dec  4 04:34 max_pairwise_product_sort.cpp\n"
          ]
        }
      ]
    },
    {
      "cell_type": "markdown",
      "metadata": {
        "id": "v8pdV9ABOb_k"
      },
      "source": [
        "Test with inputs 1 and 2\n",
        "\n"
      ]
    },
    {
      "cell_type": "code",
      "execution_count": 96,
      "metadata": {
        "id": "kdXAyLG4Ob_k",
        "colab": {
          "base_uri": "https://localhost:8080/"
        },
        "outputId": "fb1c0eb2-9aa3-4eec-c7b0-2619fcfe2525"
      },
      "outputs": [
        {
          "output_type": "stream",
          "name": "stdout",
          "text": [
            "0\n"
          ]
        }
      ],
      "source": [
        "!./max_pairwise_product_sort < input0.txt"
      ]
    },
    {
      "cell_type": "code",
      "source": [
        "!./max_pairwise_product_sort < input1.txt"
      ],
      "metadata": {
        "colab": {
          "base_uri": "https://localhost:8080/"
        },
        "id": "uW32Q2vn844w",
        "outputId": "0697d073-85a5-4ca0-8b32-0595c691e7d0"
      },
      "execution_count": 97,
      "outputs": [
        {
          "output_type": "stream",
          "name": "stdout",
          "text": [
            "90\n"
          ]
        }
      ]
    },
    {
      "cell_type": "code",
      "source": [
        "!./max_pairwise_product_sort < input2.txt"
      ],
      "metadata": {
        "colab": {
          "base_uri": "https://localhost:8080/"
        },
        "id": "juxMQRcA875z",
        "outputId": "6f8342c7-07ec-4467-e6af-b823beea5b1b"
      },
      "execution_count": 98,
      "outputs": [
        {
          "output_type": "stream",
          "name": "stdout",
          "text": [
            "90\n"
          ]
        }
      ]
    },
    {
      "cell_type": "markdown",
      "metadata": {
        "id": "Sw-5X1q1Ob_k"
      },
      "source": [
        "Test and time it with input 3"
      ]
    },
    {
      "cell_type": "code",
      "execution_count": 99,
      "metadata": {
        "id": "ryHJ30WIOb_k",
        "colab": {
          "base_uri": "https://localhost:8080/"
        },
        "outputId": "8bc16b92-ae91-49ac-acba-b9b2d471084a"
      },
      "outputs": [
        {
          "output_type": "stream",
          "name": "stdout",
          "text": [
            "6000000\n",
            "\n",
            "real\t0m0.004s\n",
            "user\t0m0.002s\n",
            "sys\t0m0.001s\n"
          ]
        }
      ],
      "source": [
        "!time ./max_pairwise_product_sort < input3.txt"
      ]
    },
    {
      "cell_type": "markdown",
      "metadata": {
        "id": "oJGdPl1HOb_k"
      },
      "source": [
        "20 stress tests"
      ]
    },
    {
      "cell_type": "code",
      "execution_count": 100,
      "metadata": {
        "id": "pXHtO1dEOb_k",
        "colab": {
          "base_uri": "https://localhost:8080/"
        },
        "outputId": "16821aa3-1bf5-44a2-af4f-439a2812ce52"
      },
      "outputs": [
        {
          "output_type": "stream",
          "name": "stdout",
          "text": [
            "Test 11: N=238\n",
            "Test 12: N=824\n",
            "Test 13: N=114\n",
            "Test 14: N=417\n",
            "Test 15: N=387\n",
            "Test 16: N=312\n",
            "Test 17: N=9685\n",
            "Test 18: N=6170\n",
            "Test 19: N=9072\n",
            "Test 20: N=7678\n"
          ]
        }
      ],
      "source": [
        "import random\n",
        "import math\n",
        "\n",
        "# Number of stress tests\n",
        "num_tests = 10\n",
        "\n",
        "for test_number in range(11, 21):\n",
        "    # Determine the size of the input given the iteration\n",
        "    if test_number <= 16:\n",
        "        n = random.randint(2, 1000)\n",
        "    else:\n",
        "        n = random.randint(2, 10000)\n",
        "\n",
        "    # Generating random values\n",
        "    numbers = [random.randint(1, 99999) for _ in range(n)]\n",
        "\n",
        "    #Writing the input in a file\n",
        "    with open(f\"input{test_number}.txt\", \"w\") as file:\n",
        "        file.write(f\"{n}\\n\")\n",
        "        file.write(\" \".join(map(str, numbers)))\n",
        "\n",
        "    print(f\"Test {test_number}: N={n}\")\n"
      ]
    },
    {
      "cell_type": "code",
      "source": [
        "!./max_pairwise_product_sort < input1.txt\n",
        "!./max_pairwise_product_sort < input2.txt\n",
        "!./max_pairwise_product_sort < input3.txt\n",
        "!./max_pairwise_product_sort < input4.txt\n",
        "!./max_pairwise_product_sort < input5.txt\n",
        "!./max_pairwise_product_sort < input6.txt\n",
        "!./max_pairwise_product_sort < input7.txt\n",
        "!./max_pairwise_product_sort < input8.txt\n",
        "!./max_pairwise_product_sort < input9.txt\n",
        "!./max_pairwise_product_sort < input10.txt\n",
        "!./max_pairwise_product_sort < input11.txt\n",
        "!./max_pairwise_product_sort < input12.txt\n",
        "!./max_pairwise_product_sort < input13.txt\n",
        "!./max_pairwise_product_sort < input14.txt\n",
        "!./max_pairwise_product_sort < input15.txt\n",
        "!./max_pairwise_product_sort < input16.txt\n",
        "!./max_pairwise_product_sort < input18.txt\n",
        "!./max_pairwise_product_sort < input19.txt\n",
        "!./max_pairwise_product_sort < input20.txt"
      ],
      "metadata": {
        "colab": {
          "base_uri": "https://localhost:8080/"
        },
        "id": "hQcNhQFO9QOc",
        "outputId": "7c2a549e-93d7-4e39-bbdc-775f0b0ae6b4"
      },
      "execution_count": 101,
      "outputs": [
        {
          "output_type": "stream",
          "name": "stdout",
          "text": [
            "90\n",
            "90\n",
            "6000000\n",
            "31053252078\n",
            "810252\n",
            "/bin/bash: line 1: input6.txt: No such file or directory\n",
            "/bin/bash: line 1: input7.txt: No such file or directory\n",
            "/bin/bash: line 1: input8.txt: No such file or directory\n",
            "7405926\n",
            "37029630\n",
            "9847003500\n",
            "9965429865\n",
            "9616816208\n",
            "9900911730\n",
            "9943380282\n",
            "9798323150\n",
            "9997600135\n",
            "9994500646\n",
            "9991501804\n"
          ]
        }
      ]
    },
    {
      "cell_type": "markdown",
      "metadata": {
        "id": "2beTmWFPOb_k"
      },
      "source": [
        "Count executed instructions in code and verify with inputs 1,2 and 3\n"
      ]
    },
    {
      "cell_type": "code",
      "execution_count": 102,
      "metadata": {
        "id": "iuByv4x1Ob_k",
        "colab": {
          "base_uri": "https://localhost:8080/"
        },
        "outputId": "d89cc67d-c36c-4326-8eb9-4a3374111194"
      },
      "outputs": [
        {
          "output_type": "stream",
          "name": "stdout",
          "text": [
            "Overwriting max_pairwise_product_sort.cpp\n"
          ]
        }
      ],
      "source": [
        "%%writefile max_pairwise_product_sort.cpp\n",
        "#include <iostream>\n",
        "#include <vector>\n",
        "#include <algorithm>\n",
        "\n",
        "//\n",
        "//conteo:\n",
        "//\n",
        "long long MaxPairwiseProduct(const std::vector<long long>& numbers) {\n",
        "    int n = numbers.size();                                                     // 1\n",
        "\n",
        "    std::vector<long long> sorted_numbers(numbers);                             // n\n",
        "\n",
        "    std::sort(sorted_numbers.begin(), sorted_numbers.end());                    // n*log(n)\n",
        "\n",
        "    long long max_product = sorted_numbers[n - 1] * sorted_numbers[n - 2];      // 1\n",
        "\n",
        "    return max_product;                                                         // 1\n",
        "}\n",
        "\n",
        "int main() {\n",
        "    int n;                                                                      // 1\n",
        "    std::cin >> n;                                                              // 1\n",
        "\n",
        "    std::vector<long long> numbers(n);                                          // 1\n",
        "\n",
        "    for (int i = 0; i < n; ++i) {                                               // n\n",
        "        std::cin >> numbers[i];                                                 // n\n",
        "    }\n",
        "\n",
        "    std::cout << MaxPairwiseProduct(numbers) << \"\\n\";                           // 1\n",
        "\n",
        "    return 0;                                                                   // 1\n",
        "\n",
        "                                                                                // total pairwise: n+n*log(n)+3\n",
        "                                                                                // total: 3n+n*log(n)+8\n",
        "}\n",
        "\n"
      ]
    },
    {
      "cell_type": "code",
      "source": [
        "%%writefile max_pairwise_product_sort2.cpp\n",
        "#include <iostream>\n",
        "#include <vector>\n",
        "#include <algorithm>\n",
        "#include <cmath>\n",
        "\n",
        "long long MaxPairwiseProduct(const std::vector<long long>& numbers, long long &execints) {\n",
        "\n",
        "    int n = numbers.size();\n",
        "    execints++;\n",
        "\n",
        "    std::vector<long long> sorted_numbers(numbers);\n",
        "    execints++;\n",
        "\n",
        "    std::sort(sorted_numbers.begin(), sorted_numbers.end());\n",
        "    execints += n * log(n);\n",
        "\n",
        "    long long max_product = sorted_numbers[n - 1] * sorted_numbers[n - 2];\n",
        "    execints++;\n",
        "\n",
        "    return max_product;\n",
        "}\n",
        "\n",
        "int main() {\n",
        "\n",
        "    long long execints = 0LL;\n",
        "    execints++;\n",
        "\n",
        "    int n;\n",
        "    execints++;\n",
        "\n",
        "    std::cin >> n;\n",
        "    execints++;\n",
        "\n",
        "    std::vector<long long> numbers(n);\n",
        "    execints += n;\n",
        "\n",
        "    for (int i = 0; i < n; ++i) {\n",
        "        execints += 2;\n",
        "\n",
        "        std::cin >> numbers[i];\n",
        "        execints++;\n",
        "    }\n",
        "\n",
        "    int M = MaxPairwiseProduct(numbers, execints);\n",
        "\n",
        "    std::cout << execints << \"\\n\";\n",
        "    return 0;\n",
        "}\n",
        "\n"
      ],
      "metadata": {
        "colab": {
          "base_uri": "https://localhost:8080/"
        },
        "id": "bD4MSMWy9djy",
        "outputId": "c4b71bc0-3010-4d74-f7cf-a89b238dfd69"
      },
      "execution_count": 103,
      "outputs": [
        {
          "output_type": "stream",
          "name": "stdout",
          "text": [
            "Writing max_pairwise_product_sort2.cpp\n"
          ]
        }
      ]
    },
    {
      "cell_type": "code",
      "source": [
        "!g++ -o max_pairwise_product_sort2 max_pairwise_product_sort2.cpp\n",
        "!chmod +x max_pairwise_product_sort2.cpp\n",
        "!ls -l max_pairwise_product_sort2.cpp max_pairwise_product_sort2"
      ],
      "metadata": {
        "colab": {
          "base_uri": "https://localhost:8080/"
        },
        "id": "TwYurLjZ9hD0",
        "outputId": "70e3772a-0a57-439b-e258-8a06d97d5312"
      },
      "execution_count": 104,
      "outputs": [
        {
          "output_type": "stream",
          "name": "stdout",
          "text": [
            "-rwxr-xr-x 1 root root 40928 Dec  4 04:38 max_pairwise_product_sort2\n",
            "-rwxr-xr-x 1 root root   897 Dec  4 04:37 max_pairwise_product_sort2.cpp\n"
          ]
        }
      ]
    },
    {
      "cell_type": "code",
      "source": [
        "n=10\n",
        "print((3 * n) + (n * math.log(n)) + 8)\n",
        "print(n+n * math.log(n)+3)"
      ],
      "metadata": {
        "colab": {
          "base_uri": "https://localhost:8080/"
        },
        "id": "LkyrKaXD9qPl",
        "outputId": "1f01b3a8-87c7-415d-9918-b8575eddc544"
      },
      "execution_count": 105,
      "outputs": [
        {
          "output_type": "stream",
          "name": "stdout",
          "text": [
            "61.02585092994046\n",
            "36.02585092994046\n"
          ]
        }
      ]
    },
    {
      "cell_type": "code",
      "source": [
        "!./max_pairwise_product_sort2 < input1.txt"
      ],
      "metadata": {
        "colab": {
          "base_uri": "https://localhost:8080/"
        },
        "id": "cq4gvBgD9ueJ",
        "outputId": "646338b2-0b3d-446e-f536-f38298c5bda0"
      },
      "execution_count": 106,
      "outputs": [
        {
          "output_type": "stream",
          "name": "stdout",
          "text": [
            "69\n"
          ]
        }
      ]
    },
    {
      "cell_type": "code",
      "source": [
        "!./max_pairwise_product_sort2 < input2.txt"
      ],
      "metadata": {
        "colab": {
          "base_uri": "https://localhost:8080/"
        },
        "id": "c0C_wM1z9yZI",
        "outputId": "a500017f-07f6-47cc-8e9d-1077bb467b6d"
      },
      "execution_count": 107,
      "outputs": [
        {
          "output_type": "stream",
          "name": "stdout",
          "text": [
            "69\n"
          ]
        }
      ]
    },
    {
      "cell_type": "code",
      "source": [
        "n=6\n",
        "print((3 * n) + (n * math.log(n)) + 8)\n",
        "print(n+n * math.log(n)+3)"
      ],
      "metadata": {
        "colab": {
          "base_uri": "https://localhost:8080/"
        },
        "id": "zjtslVRJ90_N",
        "outputId": "628f8b86-c73c-4054-fff3-ce00adb5e4bd"
      },
      "execution_count": 108,
      "outputs": [
        {
          "output_type": "stream",
          "name": "stdout",
          "text": [
            "36.75055681536833\n",
            "19.75055681536833\n"
          ]
        }
      ]
    },
    {
      "cell_type": "code",
      "source": [
        "!./max_pairwise_product_sort2 < input3.txt"
      ],
      "metadata": {
        "colab": {
          "base_uri": "https://localhost:8080/"
        },
        "id": "SRQokwU297E1",
        "outputId": "ac32a3b3-8238-4ad7-b2b2-307c871a1b60"
      },
      "execution_count": 109,
      "outputs": [
        {
          "output_type": "stream",
          "name": "stdout",
          "text": [
            "40\n"
          ]
        }
      ]
    },
    {
      "cell_type": "markdown",
      "metadata": {
        "id": "x2CXhkwTOb_l"
      },
      "source": [
        "Calculate estimated time by instruction and number of instructions by second"
      ]
    },
    {
      "cell_type": "code",
      "execution_count": 110,
      "metadata": {
        "id": "nTjxyTMtOb_l"
      },
      "outputs": [],
      "source": [
        "n = 200000\n",
        "numbers = \" \".join(map(str, range(1, 200001)))\n",
        "with open('input21.txt', 'w') as file:\n",
        "    file.write(f\"{n}\\n{numbers}\\n\")"
      ]
    },
    {
      "cell_type": "code",
      "source": [
        "!time ./max_pairwise_product_sort < input21.txt"
      ],
      "metadata": {
        "colab": {
          "base_uri": "https://localhost:8080/"
        },
        "id": "eaSwFg7y-AkW",
        "outputId": "dcf71caa-1e1d-4853-a596-526ab42c6fad"
      },
      "execution_count": 111,
      "outputs": [
        {
          "output_type": "stream",
          "name": "stdout",
          "text": [
            "39999800000\n",
            "\n",
            "real\t0m0.134s\n",
            "user\t0m0.122s\n",
            "sys\t0m0.006s\n"
          ]
        }
      ]
    },
    {
      "cell_type": "code",
      "source": [
        "!./max_pairwise_product_sort2 < input21.txt"
      ],
      "metadata": {
        "colab": {
          "base_uri": "https://localhost:8080/"
        },
        "id": "flbfYEQl-Ecb",
        "outputId": "f29437a0-5ccf-4217-8aaf-bb17523679ee"
      },
      "execution_count": 112,
      "outputs": [
        {
          "output_type": "stream",
          "name": "stdout",
          "text": [
            "3241220\n"
          ]
        }
      ]
    },
    {
      "cell_type": "code",
      "source": [
        "n=200000\n",
        "print((3 * n) + (n * math.log(n)) + 8)"
      ],
      "metadata": {
        "colab": {
          "base_uri": "https://localhost:8080/"
        },
        "id": "lbtm8b13-Gcj",
        "outputId": "76c7723b-ecbf-4a93-fd59-91dc9cc39920"
      },
      "execution_count": 113,
      "outputs": [
        {
          "output_type": "stream",
          "name": "stdout",
          "text": [
            "3041222.529106035\n"
          ]
        }
      ]
    },
    {
      "cell_type": "code",
      "source": [
        "# Estimated time by instruction\n",
        "0.12/3241220"
      ],
      "metadata": {
        "colab": {
          "base_uri": "https://localhost:8080/"
        },
        "id": "kIKX69ld-IyH",
        "outputId": "6e8a1b4a-59a3-4642-c224-b2f5358150ef"
      },
      "execution_count": 114,
      "outputs": [
        {
          "output_type": "execute_result",
          "data": {
            "text/plain": [
              "3.7023096241538675e-08"
            ]
          },
          "metadata": {},
          "execution_count": 114
        }
      ]
    },
    {
      "cell_type": "code",
      "source": [
        "# Estimated number of instructions by second\n",
        "3241220/0.12"
      ],
      "metadata": {
        "colab": {
          "base_uri": "https://localhost:8080/"
        },
        "id": "1WwJ7pKg-LPP",
        "outputId": "d6f03a68-b787-401d-8906-d9f4a1a13dec"
      },
      "execution_count": 115,
      "outputs": [
        {
          "output_type": "execute_result",
          "data": {
            "text/plain": [
              "27010166.666666668"
            ]
          },
          "metadata": {},
          "execution_count": 115
        }
      ]
    },
    {
      "cell_type": "markdown",
      "source": [
        "### Estimate and verify the maximun n that can be solved in 1 second"
      ],
      "metadata": {
        "id": "CcgDYDQuaFeH"
      }
    },
    {
      "cell_type": "markdown",
      "source": [
        "$$(3n + n*log(n) + 8) \\times 3.7*10^{-8} s = 1 s$$\n",
        "\n",
        "$$ n \\approx 1.56×10^6 $$"
      ],
      "metadata": {
        "id": "M7oZ9mf1-aDt"
      }
    },
    {
      "cell_type": "code",
      "source": [
        "print(1560000*(1560000-1))"
      ],
      "metadata": {
        "colab": {
          "base_uri": "https://localhost:8080/"
        },
        "id": "yt7xlpbE-dMe",
        "outputId": "3edf3194-94a8-4255-a877-e72cc2ea382a"
      },
      "execution_count": 116,
      "outputs": [
        {
          "output_type": "stream",
          "name": "stdout",
          "text": [
            "2433598440000\n"
          ]
        }
      ]
    },
    {
      "cell_type": "code",
      "source": [
        "n = (1560000)\n",
        "numbers = \" \".join(map(str, range(1, n+1)))\n",
        "with open('input22.txt', 'w') as file:\n",
        "    file.write(f\"{n}\\n{numbers}\\n\")"
      ],
      "metadata": {
        "id": "LG9A_JYe-f96"
      },
      "execution_count": 117,
      "outputs": []
    },
    {
      "cell_type": "code",
      "source": [
        "!time ./max_pairwise_product_sort < input22.txt"
      ],
      "metadata": {
        "colab": {
          "base_uri": "https://localhost:8080/"
        },
        "id": "T7FxLVLb-jOH",
        "outputId": "9ddafec6-866e-4e1d-f550-0402b9910709"
      },
      "execution_count": 118,
      "outputs": [
        {
          "output_type": "stream",
          "name": "stdout",
          "text": [
            "2433598440000\n",
            "\n",
            "real\t0m1.046s\n",
            "user\t0m1.010s\n",
            "sys\t0m0.027s\n"
          ]
        }
      ]
    },
    {
      "cell_type": "markdown",
      "source": [
        "## Python sort\n",
        "\n",
        "\n",
        "\n"
      ],
      "metadata": {
        "id": "IkB4AiHz-nIT"
      }
    },
    {
      "cell_type": "markdown",
      "source": [
        "Add in each line a coment with the number of intstrcution that are executed in that line"
      ],
      "metadata": {
        "id": "15wFDzDH--MH"
      }
    },
    {
      "cell_type": "code",
      "source": [
        "%%writefile max_pairwise_product_sort.py\n",
        "def maximum_pairwise_product(nums):\n",
        "    # Ordenar la lista en orden descendente\n",
        "    nums.sort(reverse=True)  # nlog(n)\n",
        "\n",
        "    # Tomar los dos primeros elementos después de ordenar\n",
        "    max1 = nums[0]  # 1\n",
        "    max2 = nums[1]  # 1\n",
        "\n",
        "    # Calcular el producto máximo\n",
        "    result = max1 * max2  # 1\n",
        "\n",
        "    return result  # 1\n",
        "\n",
        "\n",
        "n = int(input())  # 1\n",
        "input_numbers = list(map(int, input().split()))  # n\n",
        "result = maximum_pairwise_product(input_numbers)  # 1\n",
        "print(result)  # 1\n",
        "\n",
        "#total: n+n*log(n)+7"
      ],
      "metadata": {
        "colab": {
          "base_uri": "https://localhost:8080/"
        },
        "id": "JkZUDSXS_COm",
        "outputId": "ac06c17c-bd39-48be-ef8d-d0d008f067eb"
      },
      "execution_count": 119,
      "outputs": [
        {
          "output_type": "stream",
          "name": "stdout",
          "text": [
            "Writing max_pairwise_product_sort.py\n"
          ]
        }
      ]
    },
    {
      "cell_type": "code",
      "source": [
        "!chmod +x max_pairwise_product_sort.py\n",
        "!ls -l max_pairwise_product_sort.py"
      ],
      "metadata": {
        "colab": {
          "base_uri": "https://localhost:8080/"
        },
        "id": "dSxAIb6e_JNM",
        "outputId": "1c148995-f5a3-4e1d-9a1a-9e1d28fc0b28"
      },
      "execution_count": 120,
      "outputs": [
        {
          "output_type": "stream",
          "name": "stdout",
          "text": [
            "-rwxr-xr-x 1 root root 489 Dec  4 04:44 max_pairwise_product_sort.py\n"
          ]
        }
      ]
    },
    {
      "cell_type": "code",
      "source": [
        "!python max_pairwise_product_sort.py < input0.txt"
      ],
      "metadata": {
        "colab": {
          "base_uri": "https://localhost:8080/"
        },
        "id": "vzxRnQN5_Kyg",
        "outputId": "c455d870-e5fd-4f87-ce30-b48c63e3fb77"
      },
      "execution_count": 121,
      "outputs": [
        {
          "output_type": "stream",
          "name": "stdout",
          "text": [
            "0\n"
          ]
        }
      ]
    },
    {
      "cell_type": "code",
      "source": [
        "!python max_pairwise_product_sort.py < input1.txt"
      ],
      "metadata": {
        "colab": {
          "base_uri": "https://localhost:8080/"
        },
        "id": "h3CFcp_8_PU3",
        "outputId": "ced5371f-a15e-4bda-f036-4b7a35bfff6d"
      },
      "execution_count": 122,
      "outputs": [
        {
          "output_type": "stream",
          "name": "stdout",
          "text": [
            "90\n"
          ]
        }
      ]
    },
    {
      "cell_type": "code",
      "source": [
        "!python max_pairwise_product_sort.py < input2.txt"
      ],
      "metadata": {
        "colab": {
          "base_uri": "https://localhost:8080/"
        },
        "id": "HgYoo77F_Rz9",
        "outputId": "851ad48a-db8f-4abd-9e07-5f741788c0c5"
      },
      "execution_count": 123,
      "outputs": [
        {
          "output_type": "stream",
          "name": "stdout",
          "text": [
            "90\n"
          ]
        }
      ]
    },
    {
      "cell_type": "code",
      "source": [
        "!time python max_pairwise_product_sort.py < input2.txt"
      ],
      "metadata": {
        "colab": {
          "base_uri": "https://localhost:8080/"
        },
        "id": "J8YfAR3F_Wpn",
        "outputId": "1f67b9c3-0649-4bdb-e030-905f7f474982"
      },
      "execution_count": 124,
      "outputs": [
        {
          "output_type": "stream",
          "name": "stdout",
          "text": [
            "90\n",
            "\n",
            "real\t0m0.044s\n",
            "user\t0m0.025s\n",
            "sys\t0m0.016s\n"
          ]
        }
      ]
    },
    {
      "cell_type": "code",
      "source": [
        "!python max_pairwise_product_sort.py < input1.txt\n",
        "!python max_pairwise_product_sort.py < input2.txt\n",
        "!python max_pairwise_product_sort.py < input3.txt\n",
        "!python max_pairwise_product_sort.py < input4.txt\n",
        "!python max_pairwise_product_sort.py < input5.txt\n",
        "!python max_pairwise_product_sort.py < input6.txt\n",
        "!python max_pairwise_product_sort.py < input7.txt\n",
        "!python max_pairwise_product_sort.py < input8.txt\n",
        "!python max_pairwise_product_sort.py < input9.txt\n",
        "!python max_pairwise_product_sort.py < input10.txt\n",
        "!python max_pairwise_product_sort.py < input11.txt\n",
        "!python max_pairwise_product_sort.py < input12.txt\n",
        "!python max_pairwise_product_sort.py < input13.txt\n",
        "!python max_pairwise_product_sort.py < input14.txt\n",
        "!python max_pairwise_product_sort.py < input15.txt\n",
        "!python max_pairwise_product_sort.py < input16.txt\n",
        "!python max_pairwise_product_sort.py < input17.txt\n",
        "!python max_pairwise_product_sort.py < input18.txt\n",
        "!python max_pairwise_product_sort.py < input19.txt\n",
        "!python max_pairwise_product_sort.py < input20.txt"
      ],
      "metadata": {
        "colab": {
          "base_uri": "https://localhost:8080/"
        },
        "id": "sFKjCKWy_ZWW",
        "outputId": "ca205560-7acc-4e64-8f2f-b59ef13339a3"
      },
      "execution_count": 125,
      "outputs": [
        {
          "output_type": "stream",
          "name": "stdout",
          "text": [
            "90\n",
            "90\n",
            "6000000\n",
            "31053252078\n",
            "810252\n",
            "/bin/bash: line 1: input6.txt: No such file or directory\n",
            "/bin/bash: line 1: input7.txt: No such file or directory\n",
            "/bin/bash: line 1: input8.txt: No such file or directory\n",
            "7405926\n",
            "37029630\n",
            "9847003500\n",
            "9965429865\n",
            "9616816208\n",
            "9900911730\n",
            "9943380282\n",
            "9798323150\n",
            "9999500006\n",
            "9997600135\n",
            "9994500646\n",
            "9991501804\n"
          ]
        }
      ]
    },
    {
      "cell_type": "markdown",
      "source": [
        "Count executed instructions in code and verify with inputs 1,2 and 3\n"
      ],
      "metadata": {
        "id": "zaBfQD97_feP"
      }
    },
    {
      "cell_type": "code",
      "source": [
        "%%writefile max_pairwise_product_sort2.py\n",
        "import math\n",
        "execints = 0\n",
        "\n",
        "def maximum_pairwise_product(nums):\n",
        "    global execints\n",
        "\n",
        "    nums.sort(reverse=True)\n",
        "    execints += n*math.log10(n)\n",
        "\n",
        "    max1 = nums[0]\n",
        "    max2 = nums[1]\n",
        "    execints += 2\n",
        "\n",
        "    result = max1 * max2  # O(1)\n",
        "    execints += 1\n",
        "\n",
        "    execints += 1\n",
        "    return result\n",
        "\n",
        "n = int(input())\n",
        "execints += 1\n",
        "\n",
        "input_numbers = list(map(int, input().split()))\n",
        "execints += n\n",
        "\n",
        "result = maximum_pairwise_product(input_numbers)\n",
        "execints += 1\n",
        "print(result)\n",
        "execints += 1\n",
        "\n",
        "print(execints)"
      ],
      "metadata": {
        "colab": {
          "base_uri": "https://localhost:8080/"
        },
        "id": "dtCe81Li_ikT",
        "outputId": "5327f0fe-fe23-4e8b-a379-6a9816d04fab"
      },
      "execution_count": 126,
      "outputs": [
        {
          "output_type": "stream",
          "name": "stdout",
          "text": [
            "Writing max_pairwise_product_sort2.py\n"
          ]
        }
      ]
    },
    {
      "cell_type": "code",
      "source": [
        "!chmod +x max_pairwise_product_sort2.py\n",
        "!ls -l max_pairwise_product_sort2.py"
      ],
      "metadata": {
        "colab": {
          "base_uri": "https://localhost:8080/"
        },
        "id": "yXWwgXh7_l80",
        "outputId": "c1352d87-fe91-47c5-a546-636a6cbe4259"
      },
      "execution_count": 127,
      "outputs": [
        {
          "output_type": "stream",
          "name": "stdout",
          "text": [
            "-rwxr-xr-x 1 root root 493 Dec  4 04:47 max_pairwise_product_sort2.py\n"
          ]
        }
      ]
    },
    {
      "cell_type": "code",
      "source": [
        "n=10\n",
        "print(n+(n*math.log10(n))+7)"
      ],
      "metadata": {
        "colab": {
          "base_uri": "https://localhost:8080/"
        },
        "id": "HlK3AcAT_oAI",
        "outputId": "ab1435fb-4759-46d7-d584-ebcfbb5bb62e"
      },
      "execution_count": 128,
      "outputs": [
        {
          "output_type": "stream",
          "name": "stdout",
          "text": [
            "27.0\n"
          ]
        }
      ]
    },
    {
      "cell_type": "code",
      "source": [
        "!python max_pairwise_product_sort2.py < input1.txt"
      ],
      "metadata": {
        "colab": {
          "base_uri": "https://localhost:8080/"
        },
        "id": "Ara1EsXB_p7y",
        "outputId": "5de1b79c-8bb2-4729-8cee-c55e1ab4b815"
      },
      "execution_count": 129,
      "outputs": [
        {
          "output_type": "stream",
          "name": "stdout",
          "text": [
            "90\n",
            "27.0\n"
          ]
        }
      ]
    },
    {
      "cell_type": "code",
      "source": [
        "!python max_pairwise_product_sort2.py < input2.txt"
      ],
      "metadata": {
        "colab": {
          "base_uri": "https://localhost:8080/"
        },
        "id": "FGAy10Vn_sTo",
        "outputId": "bb655e0a-e039-4257-c972-09ebee2d619a"
      },
      "execution_count": 130,
      "outputs": [
        {
          "output_type": "stream",
          "name": "stdout",
          "text": [
            "90\n",
            "27.0\n"
          ]
        }
      ]
    },
    {
      "cell_type": "code",
      "source": [
        "!python max_pairwise_product_sort2.py < input3.txt"
      ],
      "metadata": {
        "colab": {
          "base_uri": "https://localhost:8080/"
        },
        "id": "RhspvdQ2_wCm",
        "outputId": "f8e4f877-05a0-42ef-a2a0-64f739a0c6d5"
      },
      "execution_count": 131,
      "outputs": [
        {
          "output_type": "stream",
          "name": "stdout",
          "text": [
            "6000000\n",
            "17.668907502301863\n"
          ]
        }
      ]
    },
    {
      "cell_type": "markdown",
      "source": [
        "Calculate estimated time by instruction and number of instructions by second"
      ],
      "metadata": {
        "id": "KpEpA73b_0AK"
      }
    },
    {
      "cell_type": "code",
      "source": [
        "!time python ./max_pairwise_product_sort2.py < input21.txt"
      ],
      "metadata": {
        "colab": {
          "base_uri": "https://localhost:8080/"
        },
        "id": "mM6ZHPgG_2au",
        "outputId": "89d65797-d91a-4d5a-ef8e-dfb18a64d6fa"
      },
      "execution_count": 132,
      "outputs": [
        {
          "output_type": "stream",
          "name": "stdout",
          "text": [
            "39999800000\n",
            "1260212.9991327962\n",
            "\n",
            "real\t0m0.094s\n",
            "user\t0m0.072s\n",
            "sys\t0m0.021s\n"
          ]
        }
      ]
    },
    {
      "cell_type": "code",
      "source": [
        "n=200000\n",
        "print(n+(n*math.log10(n))+7)"
      ],
      "metadata": {
        "colab": {
          "base_uri": "https://localhost:8080/"
        },
        "id": "LfzpKZnb_4i4",
        "outputId": "bb226480-f86e-4fce-8624-3e5e809071be"
      },
      "execution_count": 133,
      "outputs": [
        {
          "output_type": "stream",
          "name": "stdout",
          "text": [
            "1260212.9991327962\n"
          ]
        }
      ]
    },
    {
      "cell_type": "code",
      "source": [
        "# Estimated time by instruction\n",
        "0.182/1260212.9991327962"
      ],
      "metadata": {
        "colab": {
          "base_uri": "https://localhost:8080/"
        },
        "id": "zOApbETA_67a",
        "outputId": "e413437c-bba8-4d60-d39b-2ff81075bd8e"
      },
      "execution_count": 134,
      "outputs": [
        {
          "output_type": "execute_result",
          "data": {
            "text/plain": [
              "1.4442003068151304e-07"
            ]
          },
          "metadata": {},
          "execution_count": 134
        }
      ]
    },
    {
      "cell_type": "code",
      "source": [
        "# Estimated number of instructions by second\n",
        "1260212.9991327962/0.12"
      ],
      "metadata": {
        "colab": {
          "base_uri": "https://localhost:8080/"
        },
        "id": "4xaijOv2_84r",
        "outputId": "7bb37982-0722-4252-8565-5cd76bb7a1f5"
      },
      "execution_count": 135,
      "outputs": [
        {
          "output_type": "execute_result",
          "data": {
            "text/plain": [
              "10501774.992773302"
            ]
          },
          "metadata": {},
          "execution_count": 135
        }
      ]
    },
    {
      "cell_type": "markdown",
      "source": [
        "### Estimate and verify the maximun n that can be solved in 1 second"
      ],
      "metadata": {
        "id": "xXSge2zFAAJj"
      }
    },
    {
      "cell_type": "markdown",
      "source": [
        "$$(n + n*log(n) + 7) \\times 1.44*10^{-7} s = 1 s$$\n",
        "\n",
        "$$ n \\approx 5×10^5 $$"
      ],
      "metadata": {
        "id": "DJhNUuw_ADO0"
      }
    },
    {
      "cell_type": "markdown",
      "source": [
        "*T*(N)=(n+n∗log(n)+7) is not the actual function of the code, given that the execution time is less than 1 second with the given n, the value of n that results in an execution time of 1 second is: $$ \\approx 2*10 ^6$$"
      ],
      "metadata": {
        "id": "i-Yqr7S7AHE2"
      }
    },
    {
      "cell_type": "code",
      "source": [
        "print(2000000*(2000000-1))"
      ],
      "metadata": {
        "colab": {
          "base_uri": "https://localhost:8080/"
        },
        "id": "rHdM1_yMAJz2",
        "outputId": "bd49576c-1b20-4803-b1b7-ad4d290b91dd"
      },
      "execution_count": 136,
      "outputs": [
        {
          "output_type": "stream",
          "name": "stdout",
          "text": [
            "3999998000000\n"
          ]
        }
      ]
    },
    {
      "cell_type": "code",
      "source": [
        "n = (2000000)\n",
        "numbers = \" \".join(map(str, range(1, n+1)))\n",
        "with open('input22.txt', 'w') as file:\n",
        "    file.write(f\"{n}\\n{numbers}\\n\")"
      ],
      "metadata": {
        "id": "wfNqYddFANHN"
      },
      "execution_count": 137,
      "outputs": []
    },
    {
      "cell_type": "code",
      "source": [
        "!time python ./max_pairwise_product_sort.py < input22.txt"
      ],
      "metadata": {
        "colab": {
          "base_uri": "https://localhost:8080/"
        },
        "id": "KoDdCpiIAPs2",
        "outputId": "ad1d6a1e-bd5c-4cc2-8274-aed7626db35d"
      },
      "execution_count": 138,
      "outputs": [
        {
          "output_type": "stream",
          "name": "stdout",
          "text": [
            "3999998000000\n",
            "\n",
            "real\t0m0.632s\n",
            "user\t0m0.441s\n",
            "sys\t0m0.190s\n"
          ]
        }
      ]
    },
    {
      "cell_type": "markdown",
      "metadata": {
        "id": "VMKC5duEOQfk"
      },
      "source": [
        "## Efficient solution with largest and second-largest in an list, array or vector in C++ and Python\n",
        "\n",
        " $$T(n) < 10 n  = O(n)$$\n",
        "\n",
        "\n",
        "\n"
      ]
    },
    {
      "cell_type": "markdown",
      "metadata": {
        "id": "nLcKBwbU0QsE"
      },
      "source": [
        "Add in each line a coment with the number of intstrcution that are executed in that line"
      ]
    },
    {
      "cell_type": "code",
      "execution_count": 139,
      "metadata": {
        "id": "knls5Fh3NSt_",
        "colab": {
          "base_uri": "https://localhost:8080/"
        },
        "outputId": "3652f69d-5433-47b4-a1a7-a77cd50363af"
      },
      "outputs": [
        {
          "output_type": "stream",
          "name": "stdout",
          "text": [
            "Writing max_pairwise_product_efficient.py\n"
          ]
        }
      ],
      "source": [
        "%%writefile max_pairwise_product_efficient.py\n",
        "def max_pairwise_product(numbers):\n",
        "    max1 = float('-inf')  # 1\n",
        "    max2 = float('-inf')  # 1\n",
        "\n",
        "    for num in numbers:  # n\n",
        "        if num > max1:  # n\n",
        "            max2 = max1  # n\n",
        "            max1 = num  # n\n",
        "        elif num > max2:  # n\n",
        "            max2 = num  # n\n",
        "\n",
        "    return max1 * max2  # 1\n",
        "\n",
        "n = int(input())  # 1\n",
        "\n",
        "input_numbers = list(map(int, input().split()))  # n\n",
        "\n",
        "result = max_pairwise_product(input_numbers)  # 1\n",
        "\n",
        "print(result)  # 1\n",
        "\n",
        "#total: 7*n+6"
      ]
    },
    {
      "cell_type": "markdown",
      "metadata": {
        "id": "-JCijbWxNSii"
      },
      "source": [
        "Test with inputs 1 and 2\n",
        "\n"
      ]
    },
    {
      "cell_type": "code",
      "execution_count": 140,
      "metadata": {
        "id": "TrTGAfqlNVXT",
        "colab": {
          "base_uri": "https://localhost:8080/"
        },
        "outputId": "1b30251a-caa0-434f-a31e-89a859e45b33"
      },
      "outputs": [
        {
          "output_type": "stream",
          "name": "stdout",
          "text": [
            "-rwxr-xr-x 1 root root 460 Dec  4 04:50 max_pairwise_product_efficient.py\n"
          ]
        }
      ],
      "source": [
        "!chmod +x max_pairwise_product_efficient.py\n",
        "!ls -l max_pairwise_product_efficient.py"
      ]
    },
    {
      "cell_type": "markdown",
      "metadata": {
        "id": "PRX51wADNR8b"
      },
      "source": [
        "Test and time it with input 3"
      ]
    },
    {
      "cell_type": "code",
      "execution_count": 141,
      "metadata": {
        "id": "v4z7-Is_NRt7",
        "colab": {
          "base_uri": "https://localhost:8080/"
        },
        "outputId": "0501d90f-68db-4b8d-e0c7-483ee0ed98ce"
      },
      "outputs": [
        {
          "output_type": "stream",
          "name": "stdout",
          "text": [
            "0\n",
            "90\n",
            "90\n"
          ]
        }
      ],
      "source": [
        "!python ./max_pairwise_product_efficient.py < input0.txt\n",
        "!python ./max_pairwise_product_efficient.py < input1.txt\n",
        "!python ./max_pairwise_product_efficient.py < input2.txt"
      ]
    },
    {
      "cell_type": "code",
      "source": [
        "!time python max_pairwise_product_efficient.py < input3.txt"
      ],
      "metadata": {
        "colab": {
          "base_uri": "https://localhost:8080/"
        },
        "id": "PHc3K69HAcsb",
        "outputId": "e5ccff5c-8fdb-44ad-e09a-6bf3a8a92d47"
      },
      "execution_count": 142,
      "outputs": [
        {
          "output_type": "stream",
          "name": "stdout",
          "text": [
            "6000000\n",
            "\n",
            "real\t0m0.036s\n",
            "user\t0m0.027s\n",
            "sys\t0m0.009s\n"
          ]
        }
      ]
    },
    {
      "cell_type": "markdown",
      "metadata": {
        "id": "rpdfs0_TNZJf"
      },
      "source": [
        "20 stress tests"
      ]
    },
    {
      "cell_type": "code",
      "execution_count": 143,
      "metadata": {
        "id": "Lu4tYcKzNcTT",
        "colab": {
          "base_uri": "https://localhost:8080/"
        },
        "outputId": "718096a4-dfa5-4c50-9b3c-06058dd96cfd"
      },
      "outputs": [
        {
          "output_type": "stream",
          "name": "stdout",
          "text": [
            "90\n",
            "90\n",
            "6000000\n",
            "31053252078\n",
            "810252\n",
            "/bin/bash: line 1: input6.txt: No such file or directory\n",
            "/bin/bash: line 1: input7.txt: No such file or directory\n",
            "/bin/bash: line 1: input8.txt: No such file or directory\n",
            "7405926\n",
            "37029630\n",
            "9847003500\n",
            "9965429865\n",
            "9616816208\n",
            "9900911730\n",
            "9943380282\n",
            "9798323150\n",
            "9999500006\n",
            "9997600135\n",
            "9994500646\n",
            "9991501804\n"
          ]
        }
      ],
      "source": [
        "!python max_pairwise_product_efficient.py < input1.txt\n",
        "!python max_pairwise_product_efficient.py < input2.txt\n",
        "!python max_pairwise_product_efficient.py < input3.txt\n",
        "!python max_pairwise_product_efficient.py < input4.txt\n",
        "!python max_pairwise_product_efficient.py < input5.txt\n",
        "!python max_pairwise_product_efficient.py < input6.txt\n",
        "!python max_pairwise_product_efficient.py < input7.txt\n",
        "!python max_pairwise_product_efficient.py < input8.txt\n",
        "!python max_pairwise_product_efficient.py < input9.txt\n",
        "!python max_pairwise_product_efficient.py < input10.txt\n",
        "!python max_pairwise_product_efficient.py < input11.txt\n",
        "!python max_pairwise_product_efficient.py < input12.txt\n",
        "!python max_pairwise_product_efficient.py < input13.txt\n",
        "!python max_pairwise_product_efficient.py < input14.txt\n",
        "!python max_pairwise_product_efficient.py < input15.txt\n",
        "!python max_pairwise_product_efficient.py < input16.txt\n",
        "!python max_pairwise_product_efficient.py < input17.txt\n",
        "!python max_pairwise_product_efficient.py < input18.txt\n",
        "!python max_pairwise_product_efficient.py < input19.txt\n",
        "!python max_pairwise_product_efficient.py < input20.txt"
      ]
    },
    {
      "cell_type": "markdown",
      "metadata": {
        "id": "L8U4151JNbxk"
      },
      "source": [
        "Count executed instructions in code and verify with inputs 1,2 and 3\n"
      ]
    },
    {
      "cell_type": "code",
      "execution_count": 144,
      "metadata": {
        "id": "dh85RM8vNhFz",
        "colab": {
          "base_uri": "https://localhost:8080/"
        },
        "outputId": "2b6e621f-159f-4229-a95b-267f9378d82e"
      },
      "outputs": [
        {
          "output_type": "stream",
          "name": "stdout",
          "text": [
            "Overwriting max_pairwise_product_sort2.py\n"
          ]
        }
      ],
      "source": [
        "%%writefile max_pairwise_product_sort2.py\n",
        "def max_pairwise_product(numbers):\n",
        "    max1 = float('-inf')  # 1\n",
        "    max2 = float('-inf')  # 1\n",
        "    execints = 2  # Inicialización con el número de instrucciones hasta el bucle for\n",
        "\n",
        "    for num in numbers:  # n\n",
        "        if num > max1:  # n\n",
        "            max2 = max1  # n\n",
        "            max1 = num  # n\n",
        "            execints += 3  # 3 instrucciones: comparación, asignación de max2, asignación de max1\n",
        "        elif num > max2:  # n\n",
        "            max2 = num  # n\n",
        "            execints += 1  # 1 instrucción: asignación de max2\n",
        "\n",
        "    return max1 * max2, execints  # 1 instrucción: retorno del producto y del número de instrucciones\n",
        "\n",
        "n = int(input())  # 1\n",
        "execints = 1  # Inicialización con el número de instrucciones hasta la lectura de n\n",
        "\n",
        "input_numbers = list(map(int, input().split()))  # n\n",
        "execints += n  # Incremento del contador de instrucciones por la creación de la lista\n",
        "\n",
        "result, execints_func = max_pairwise_product(input_numbers)  # 1 (la función se ejecuta)\n",
        "execints += execints_func  # Incremento del contador de instrucciones por la ejecución de la función\n",
        "\n",
        "print(result)  # 1\n",
        "execints += 1  # Incremento del contador de instrucciones por la impresión del resultado\n",
        "\n",
        "print(\"Número total de instrucciones ejecutadas:\", execints)  # 1\n"
      ]
    },
    {
      "cell_type": "markdown",
      "metadata": {
        "id": "K6ybgCmpNygr"
      },
      "source": [
        "Calculate estimated time by instruction and number of instructions by second"
      ]
    },
    {
      "cell_type": "code",
      "execution_count": 145,
      "metadata": {
        "id": "kwe3G1O3Nz1w",
        "colab": {
          "base_uri": "https://localhost:8080/"
        },
        "outputId": "d4ceda1f-99c8-42ab-b8c0-1ccc5fbbe2ad"
      },
      "outputs": [
        {
          "output_type": "stream",
          "name": "stdout",
          "text": [
            "-rwxr-xr-x 1 root root 1248 Dec  4 04:51 max_pairwise_product_sort2.py\n"
          ]
        }
      ],
      "source": [
        "!chmod +x max_pairwise_product_sort2.py\n",
        "!ls -l max_pairwise_product_sort2.py"
      ]
    },
    {
      "cell_type": "code",
      "source": [
        "!time ./max_pairwise_product_efficient2 < input21.txt"
      ],
      "metadata": {
        "colab": {
          "base_uri": "https://localhost:8080/"
        },
        "id": "cDyeSv8JBAdX",
        "outputId": "9eaa1662-480b-4b24-bf8c-ee28fbc96e20"
      },
      "execution_count": 146,
      "outputs": [
        {
          "output_type": "stream",
          "name": "stdout",
          "text": [
            "/bin/bash: line 1: ./max_pairwise_product_efficient2: No such file or directory\n",
            "\n",
            "real\t0m0.001s\n",
            "user\t0m0.000s\n",
            "sys\t0m0.001s\n"
          ]
        }
      ]
    },
    {
      "cell_type": "markdown",
      "source": [
        "### Estimate and verify the maximun n that can be solved in 1 second"
      ],
      "metadata": {
        "id": "v8GY6n_ZaJ4P"
      }
    },
    {
      "cell_type": "markdown",
      "source": [
        "$$(6*n+5) \\times 6.08*10^{-8} s = 1 s$$\n",
        "\n",
        "$$ n \\approx 2.74*10^{6} $$"
      ],
      "metadata": {
        "id": "SBb9os17BOvM"
      }
    },
    {
      "cell_type": "code",
      "source": [
        "print(2740000*(2740000-1))"
      ],
      "metadata": {
        "id": "z3xjzg1YaKk6",
        "colab": {
          "base_uri": "https://localhost:8080/"
        },
        "outputId": "980f07d3-579a-4fba-80a7-3dff67afdc0a"
      },
      "execution_count": 147,
      "outputs": [
        {
          "output_type": "stream",
          "name": "stdout",
          "text": [
            "7507597260000\n"
          ]
        }
      ]
    },
    {
      "cell_type": "code",
      "source": [
        "n = (2740000)\n",
        "numbers = \" \".join(map(str, range(1, n+1)))\n",
        "with open('input22.txt', 'w') as file:\n",
        "    file.write(f\"{n}\\n{numbers}\\n\")"
      ],
      "metadata": {
        "id": "VXSmavd4BSbq"
      },
      "execution_count": 148,
      "outputs": []
    },
    {
      "cell_type": "code",
      "source": [
        "!time ./max_pairwise_product_efficient < input22.txt"
      ],
      "metadata": {
        "colab": {
          "base_uri": "https://localhost:8080/"
        },
        "id": "lwtrNiZqBVQv",
        "outputId": "26e33b26-4f1b-4ac2-ad0f-53c67e1e5e0e"
      },
      "execution_count": 149,
      "outputs": [
        {
          "output_type": "stream",
          "name": "stdout",
          "text": [
            "/bin/bash: line 1: ./max_pairwise_product_efficient: No such file or directory\n",
            "\n",
            "real\t0m0.004s\n",
            "user\t0m0.001s\n",
            "sys\t0m0.000s\n"
          ]
        }
      ]
    },
    {
      "cell_type": "markdown",
      "metadata": {
        "id": "sUpIWcykOGpT"
      },
      "source": [
        "## Super efficient solution\n",
        "\n",
        "Whitout storing the list in memory, only stpring the largest and second largest and whitout calling a function, add in each line a coment with the number of instructions that are executed in that line\n",
        "\n",
        "in C++ and Python\n",
        "\n",
        "\n",
        " $$T(n) < 13 n  = O(n)$$\n"
      ]
    },
    {
      "cell_type": "code",
      "execution_count": 150,
      "metadata": {
        "id": "hBLt_xBQLy8E",
        "colab": {
          "base_uri": "https://localhost:8080/"
        },
        "outputId": "6918d1eb-ba7c-4614-a09c-669c98b7e09a"
      },
      "outputs": [
        {
          "output_type": "stream",
          "name": "stdout",
          "text": [
            "Writing max_pairwise_product_superefficient.cpp\n"
          ]
        }
      ],
      "source": [
        "%%writefile max_pairwise_product_superefficient.cpp\n",
        "#include <iostream>\n",
        "\n",
        "using namespace std;\n",
        "int main(){\n",
        "  long max, secondMax, input, n;\n",
        "\n",
        "  cin>>n;\n",
        "\n",
        "  cin>>max;\n",
        "  cin>>input;\n",
        "  if(input>max){\n",
        "    secondMax=max;\n",
        "    max=input;\n",
        "  }\n",
        "  else{\n",
        "    secondMax=input;\n",
        "  }\n",
        "  for(int i=0; i<n-2;i++){\n",
        "    cin>>input;\n",
        "    if(input>secondMax){\n",
        "      if(input>max){\n",
        "        secondMax=max;\n",
        "        max=input;\n",
        "      }\n",
        "      else{\n",
        "        secondMax=input;\n",
        "      }\n",
        "    }\n",
        "\n",
        "  }\n",
        "  cout<<max*secondMax<<\"\\n\";\n",
        "\n",
        "\n",
        " cout << \"Execution Time: \" << time << endl;\n",
        "  return 0;\n",
        "}\n"
      ]
    },
    {
      "cell_type": "code",
      "source": [
        "!g++ -o max_pairwise_product_superefficient max_pairwise_product_superefficient.cpp\n",
        "!chmod +x max_pairwise_product_superefficient.cpp\n",
        "!ls -l max_pairwise_product_superefficient.cpp max_pairwise_product_superefficient"
      ],
      "metadata": {
        "colab": {
          "base_uri": "https://localhost:8080/"
        },
        "id": "xoA7zZMYBdkZ",
        "outputId": "34f10734-27da-45c7-8ace-fbaaa6997ab3"
      },
      "execution_count": 151,
      "outputs": [
        {
          "output_type": "stream",
          "name": "stdout",
          "text": [
            "-rwxr-xr-x 1 root root 16792 Dec  4 04:55 max_pairwise_product_superefficient\n",
            "-rwxr-xr-x 1 root root   498 Dec  4 04:55 max_pairwise_product_superefficient.cpp\n"
          ]
        }
      ]
    },
    {
      "cell_type": "markdown",
      "metadata": {
        "id": "683gc3roHqzb"
      },
      "source": [
        "Test with inputs 1 and 2\n",
        "\n",
        "\n"
      ]
    },
    {
      "cell_type": "code",
      "execution_count": 152,
      "metadata": {
        "id": "b7d4LA8OIc2_",
        "colab": {
          "base_uri": "https://localhost:8080/"
        },
        "outputId": "fdd3d3f3-6657-4d02-da99-f41efe2df226"
      },
      "outputs": [
        {
          "output_type": "stream",
          "name": "stdout",
          "text": [
            "90\n",
            "Execution Time: 1\n",
            "90\n",
            "Execution Time: 1\n"
          ]
        }
      ],
      "source": [
        "! ./max_pairwise_product_superefficient < input1.txt\n",
        "! ./max_pairwise_product_superefficient < input2.txt"
      ]
    },
    {
      "cell_type": "markdown",
      "metadata": {
        "id": "36Ugn1odIeJz"
      },
      "source": [
        "Test and time it with input 3"
      ]
    },
    {
      "cell_type": "code",
      "execution_count": 153,
      "metadata": {
        "id": "jDyMbCnxHqSN",
        "colab": {
          "base_uri": "https://localhost:8080/"
        },
        "outputId": "57694c6a-e188-4c04-8326-d0fe6ac75f05"
      },
      "outputs": [
        {
          "output_type": "stream",
          "name": "stdout",
          "text": [
            "6000000\n",
            "Execution Time: 1\n",
            "\n",
            "real\t0m0.006s\n",
            "user\t0m0.001s\n",
            "sys\t0m0.002s\n"
          ]
        }
      ],
      "source": [
        "!time ./max_pairwise_product_superefficient < input3.txt\n"
      ]
    },
    {
      "cell_type": "code",
      "source": [
        "! ./max_pairwise_product_superefficient < input1.txt\n",
        "! ./max_pairwise_product_superefficient < input2.txt"
      ],
      "metadata": {
        "colab": {
          "base_uri": "https://localhost:8080/"
        },
        "id": "teGrN6IcBt6T",
        "outputId": "1e294423-4d20-4920-e3cd-f4b0bf0d7368"
      },
      "execution_count": 154,
      "outputs": [
        {
          "output_type": "stream",
          "name": "stdout",
          "text": [
            "90\n",
            "Execution Time: 1\n",
            "90\n",
            "Execution Time: 1\n"
          ]
        }
      ]
    },
    {
      "cell_type": "markdown",
      "metadata": {
        "id": "bhqiKQG6fjKM"
      },
      "source": [
        "20 stress tests"
      ]
    },
    {
      "cell_type": "code",
      "execution_count": 155,
      "metadata": {
        "id": "2KsiXKhALzwm"
      },
      "outputs": [],
      "source": [
        "for i in range(20,41):\n",
        "  new_file=open(f\"input{i}\",\"w\")"
      ]
    },
    {
      "cell_type": "code",
      "source": [
        "%%writefile randomGenerator.cpp\n",
        "#include <iostream>\n",
        "#include <stdio.h>\n",
        "#include <unistd.h>\n",
        "using namespace std;\n",
        "int main (){\n",
        "  int n, number;\n",
        "  srand(getpid());\n",
        "  n = 2+rand()%(51-2);\n",
        "  cout<<n<<\"\\n\";\n",
        "  for(int i=0;i<n;i++){\n",
        "    number = rand();\n",
        "    cout<<number<<\" \";\n",
        "  }\n",
        "  return 0;\n",
        "}"
      ],
      "metadata": {
        "colab": {
          "base_uri": "https://localhost:8080/"
        },
        "id": "yWDL3A2nByuT",
        "outputId": "d408c050-8afe-486d-8dab-c10322e1012b"
      },
      "execution_count": 156,
      "outputs": [
        {
          "output_type": "stream",
          "name": "stdout",
          "text": [
            "Writing randomGenerator.cpp\n"
          ]
        }
      ]
    },
    {
      "cell_type": "code",
      "source": [
        "!g++ -o randomGenerator randomGenerator.cpp\n",
        "!chmod +x randomGenerator.cpp\n",
        "!ls -l randomGenerator.cpp randomGenerator"
      ],
      "metadata": {
        "colab": {
          "base_uri": "https://localhost:8080/"
        },
        "id": "PuYbugU_B29L",
        "outputId": "c63f1a4e-caee-43e3-cf5e-0d6fce1949d4"
      },
      "execution_count": 157,
      "outputs": [
        {
          "output_type": "stream",
          "name": "stdout",
          "text": [
            "-rwxr-xr-x 1 root root 16544 Dec  4 04:57 randomGenerator\n",
            "-rwxr-xr-x 1 root root   255 Dec  4 04:56 randomGenerator.cpp\n"
          ]
        }
      ]
    },
    {
      "cell_type": "code",
      "source": [
        "! ./randomGenerator > input20.txt\n",
        "! ./randomGenerator > input21.txt\n",
        "! ./randomGenerator > input22.txt\n",
        "! ./randomGenerator > input23.txt\n",
        "! ./randomGenerator > input24.txt\n",
        "! ./randomGenerator > input25.txt\n",
        "! ./randomGenerator > input26.txt\n",
        "! ./randomGenerator > input27.txt\n",
        "! ./randomGenerator > input28.txt\n",
        "! ./randomGenerator > input29.txt\n",
        "! ./randomGenerator > input30.txt\n",
        "! ./randomGenerator > input31.txt\n",
        "! ./randomGenerator > input32.txt\n",
        "! ./randomGenerator > input33.txt\n",
        "! ./randomGenerator > input34.txt\n",
        "! ./randomGenerator > input35.txt\n",
        "! ./randomGenerator > input36.txt\n",
        "! ./randomGenerator > input37.txt\n",
        "! ./randomGenerator > input38.txt\n",
        "! ./randomGenerator > input39.txt\n",
        "! ./randomGenerator > input40.txt"
      ],
      "metadata": {
        "id": "3H_JvbBkB6FB"
      },
      "execution_count": 158,
      "outputs": []
    },
    {
      "cell_type": "code",
      "source": [
        "! ./max_pairwise_product_superefficient < input20.txt\n",
        "! ./max_pairwise_product_superefficient < input21.txt\n",
        "! ./max_pairwise_product_superefficient < input22.txt\n",
        "! ./max_pairwise_product_superefficient < input23.txt\n",
        "! ./max_pairwise_product_superefficient < input24.txt\n",
        "! ./max_pairwise_product_superefficient < input25.txt\n",
        "! ./max_pairwise_product_superefficient < input26.txt\n",
        "! ./max_pairwise_product_superefficient < input27.txt\n",
        "! ./max_pairwise_product_superefficient < input28.txt\n",
        "! ./max_pairwise_product_superefficient < input29.txt\n",
        "! ./max_pairwise_product_superefficient < input30.txt\n",
        "! ./max_pairwise_product_superefficient < input31.txt\n",
        "! ./max_pairwise_product_superefficient < input32.txt\n",
        "! ./max_pairwise_product_superefficient < input33.txt\n",
        "! ./max_pairwise_product_superefficient < input34.txt\n",
        "! ./max_pairwise_product_superefficient < input35.txt\n",
        "! ./max_pairwise_product_superefficient < input36.txt\n",
        "! ./max_pairwise_product_superefficient < input37.txt\n",
        "! ./max_pairwise_product_superefficient < input38.txt\n",
        "! ./max_pairwise_product_superefficient < input39.txt\n",
        "! ./max_pairwise_product_superefficient < input30.txt\n"
      ],
      "metadata": {
        "colab": {
          "base_uri": "https://localhost:8080/"
        },
        "id": "c1bbybsEB-Id",
        "outputId": "b6474920-5fd5-41cc-ef77-74d3f4342402"
      },
      "execution_count": 159,
      "outputs": [
        {
          "output_type": "stream",
          "name": "stdout",
          "text": [
            "3522159322034836896\n",
            "Execution Time: 1\n",
            "3962311243050339075\n",
            "Execution Time: 1\n",
            "4326896495333057726\n",
            "Execution Time: 1\n",
            "548313498334557382\n",
            "Execution Time: 1\n",
            "2695103839135753181\n",
            "Execution Time: 1\n",
            "4112505016534080672\n",
            "Execution Time: 1\n",
            "4157797271102837120\n",
            "Execution Time: 1\n",
            "4041676008175035082\n",
            "Execution Time: 1\n",
            "4460166371365782816\n",
            "Execution Time: 1\n",
            "4566256460762479027\n",
            "Execution Time: 1\n",
            "4084434454186551152\n",
            "Execution Time: 1\n",
            "4463101775653035990\n",
            "Execution Time: 1\n",
            "4388507348216934619\n",
            "Execution Time: 1\n",
            "3921709731493694840\n",
            "Execution Time: 1\n",
            "3952885115488536875\n",
            "Execution Time: 1\n",
            "4104003456119949085\n",
            "Execution Time: 1\n",
            "4454287758223694490\n",
            "Execution Time: 1\n",
            "4160776977986855010\n",
            "Execution Time: 1\n",
            "4469443122309335166\n",
            "Execution Time: 1\n",
            "4095514538052555022\n",
            "Execution Time: 1\n",
            "4084434454186551152\n",
            "Execution Time: 1\n"
          ]
        }
      ]
    },
    {
      "cell_type": "markdown",
      "metadata": {
        "id": "fEXj8GHJH5p1"
      },
      "source": [
        "Count executed instructions in code and verify with inputs 1,2 and 3"
      ]
    },
    {
      "cell_type": "code",
      "execution_count": 160,
      "metadata": {
        "id": "LF1DHjKXIAsF",
        "colab": {
          "base_uri": "https://localhost:8080/"
        },
        "outputId": "77fdd737-17d9-4a81-9193-5564c8e89943"
      },
      "outputs": [
        {
          "output_type": "stream",
          "name": "stdout",
          "text": [
            "Writing max_pairwise_product_superefficient2.cpp\n"
          ]
        }
      ],
      "source": [
        "%%writefile max_pairwise_product_superefficient2.cpp\n",
        "#include <iostream>\n",
        "using namespace std;\n",
        "int main(){\n",
        "  int execints=0;\n",
        "  long max, secondMax, input, n;\n",
        "  cin>>n;\n",
        "  execints++;\n",
        "  cin>>max;\n",
        "  execints++;\n",
        "  cin>>input;\n",
        "  execints++;\n",
        "  if(input>max){\n",
        "    secondMax=max;\n",
        "    execints++;\n",
        "    max=input;\n",
        "    execints++;\n",
        "  }\n",
        "  else{\n",
        "    secondMax=input;\n",
        "    execints++;\n",
        "  }\n",
        "  for(int i=0; i<n-2;i++){\n",
        "    cin>>input;\n",
        "    execints++;\n",
        "    if(input>secondMax){\n",
        "      if(input>max){\n",
        "        secondMax=max;\n",
        "        execints++;\n",
        "        max=input;\n",
        "        execints++;\n",
        "      }\n",
        "      else{\n",
        "        secondMax=input;\n",
        "        execints++;\n",
        "      }\n",
        "    }\n",
        "\n",
        "  }\n",
        "  cout<<max*secondMax<<\"\\n\";\n",
        "  execints++;\n",
        "  cout<<execints<<\"\\n\";\n",
        "  return 0;\n",
        "}"
      ]
    },
    {
      "cell_type": "markdown",
      "metadata": {
        "id": "yae7sSm2IG9U"
      },
      "source": [
        "Calculate estimated time by instruction and number of instructions by second"
      ]
    },
    {
      "cell_type": "code",
      "execution_count": 161,
      "metadata": {
        "id": "suouY7BYL2dz",
        "colab": {
          "base_uri": "https://localhost:8080/"
        },
        "outputId": "90ca19f8-ce65-467e-f424-9b3f271c0e6a"
      },
      "outputs": [
        {
          "output_type": "stream",
          "name": "stdout",
          "text": [
            "Overwriting max_pairwise_product_superefficient2.cpp\n"
          ]
        }
      ],
      "source": [
        "%%writefile max_pairwise_product_superefficient2.cpp\n",
        "#include <iostream>\n",
        "using namespace std;\n",
        "int main(){\n",
        "  int execints=0;\n",
        "  long max, secondMax, input, n;\n",
        "  cin>>n;                      #1\n",
        "  cin>>max;                    #1\n",
        "  cin>>input;                  #1\n",
        "  if(input>max){\n",
        "    secondMax=max;\n",
        "    max=input;                 #2  upper bound\n",
        "  }\n",
        "  else{\n",
        "    secondMax=input;\n",
        "  }\n",
        "  for(int i=0; i<n-2;i++){\n",
        "    cin>>input;                #n-2\n",
        "    if(input>secondMax){\n",
        "      if(input>max){\n",
        "        secondMax=max;\n",
        "        max=input;             #2(n-2) upper bound\n",
        "      }\n",
        "      else{\n",
        "        secondMax=input;\n",
        "      }\n",
        "    }\n",
        "\n",
        "  }\n",
        "  cout<<max*secondMax<<\"\\n\";   #1\n",
        "  return 0;\n",
        "}"
      ]
    },
    {
      "cell_type": "code",
      "source": [
        "!g++ -o max_pairwise_product_superefficient2 max_pairwise_product_superefficient2.cpp\n",
        "!chmod +x max_pairwise_product_superefficient2.cpp\n",
        "!ls -l max_pairwise_product_superefficient2.cpp max_pairwise_product_superefficient2"
      ],
      "metadata": {
        "id": "P9p2l9mFCIre"
      },
      "execution_count": 163,
      "outputs": []
    },
    {
      "cell_type": "code",
      "source": [
        "! ./max_pairwise_product_superefficient2 < input1.txt"
      ],
      "metadata": {
        "id": "DZ2mkPscCYf8"
      },
      "execution_count": 164,
      "outputs": []
    },
    {
      "cell_type": "code",
      "source": [
        "! ./max_pairwise_product_superefficient2 < input2.txt"
      ],
      "metadata": {
        "id": "4p0LSXEbCfBt"
      },
      "execution_count": 165,
      "outputs": []
    },
    {
      "cell_type": "code",
      "source": [
        "! ./max_pairwise_product_superefficient2 < input3.txt"
      ],
      "metadata": {
        "id": "VYtsOKf1Clma"
      },
      "execution_count": null,
      "outputs": []
    },
    {
      "cell_type": "markdown",
      "source": [
        "##The total number of instructions (upper bound) is:\n",
        "$$ f(n)=3n $$\n",
        "So the algorithm complexity is O(n)"
      ],
      "metadata": {
        "id": "IVHXO64hCrjq"
      }
    },
    {
      "cell_type": "markdown",
      "source": [
        "##For input1.txt n=10, f(n)=30, and our code counts exactly 30 instructions in the code, in input2.txt for n=10, our code counts 13 instructions which is within our stimates."
      ],
      "metadata": {
        "id": "9DcEq4QpCtyq"
      }
    },
    {
      "cell_type": "markdown",
      "source": [
        "Calculate estimated time by instruction and number of instructions by second"
      ],
      "metadata": {
        "id": "Pp7HIm6jCypI"
      }
    },
    {
      "cell_type": "code",
      "source": [
        "%%writefile estimateInput.cpp\n",
        "#include <iostream>\n",
        "using namespace std;\n",
        "int main (){\n",
        "  cout << 11000<<\"\\n\";\n",
        "  for(int i=0; i<11000;i++){\n",
        "      cout <<i<<\" \";\n",
        "  }\n",
        "}"
      ],
      "metadata": {
        "colab": {
          "base_uri": "https://localhost:8080/"
        },
        "id": "OH6qLMEaC1bo",
        "outputId": "748a6e0b-f8c3-44e6-c723-116ba00fbaad"
      },
      "execution_count": 166,
      "outputs": [
        {
          "output_type": "stream",
          "name": "stdout",
          "text": [
            "Writing estimateInput.cpp\n"
          ]
        }
      ]
    },
    {
      "cell_type": "code",
      "source": [
        "!g++ -o estimateInput estimateInput.cpp\n",
        "!chmod +x estimateInput.cpp\n",
        "!ls -l estimateInput.cpp estimateInput"
      ],
      "metadata": {
        "colab": {
          "base_uri": "https://localhost:8080/"
        },
        "id": "UNZOBZvaC425",
        "outputId": "cde7e543-79b2-4a08-bf9d-5824d0d07514"
      },
      "execution_count": 167,
      "outputs": [
        {
          "output_type": "stream",
          "name": "stdout",
          "text": [
            "-rwxr-xr-x 1 root root 16432 Dec  4 05:01 estimateInput\n",
            "-rwxr-xr-x 1 root root   133 Dec  4 05:01 estimateInput.cpp\n"
          ]
        }
      ]
    },
    {
      "cell_type": "code",
      "source": [
        "new_file=open(f\"results.txt\",\"w\")\n",
        "new_file=open(f\"superefficientInput.txt\",\"w\")"
      ],
      "metadata": {
        "id": "YmzxZtjZDASZ"
      },
      "execution_count": 168,
      "outputs": []
    },
    {
      "cell_type": "code",
      "source": [
        "! ./estimateInput > superefficientInput.txt"
      ],
      "metadata": {
        "id": "kMn68OslDWOd"
      },
      "execution_count": 169,
      "outputs": []
    },
    {
      "cell_type": "code",
      "source": [
        "!time ./max_pairwise_product_superefficient2 < superefficientInput.txt"
      ],
      "metadata": {
        "colab": {
          "base_uri": "https://localhost:8080/"
        },
        "id": "v3-h9r3UDXxI",
        "outputId": "7fe2bb86-a5be-4ba1-a727-66af626006ff"
      },
      "execution_count": 170,
      "outputs": [
        {
          "output_type": "stream",
          "name": "stdout",
          "text": [
            "/bin/bash: line 1: ./max_pairwise_product_superefficient2: No such file or directory\n",
            "\n",
            "real\t0m0.001s\n",
            "user\t0m0.000s\n",
            "sys\t0m0.001s\n"
          ]
        }
      ]
    },
    {
      "cell_type": "code",
      "source": [
        "33000/0.001"
      ],
      "metadata": {
        "colab": {
          "base_uri": "https://localhost:8080/"
        },
        "id": "VD6n3X7mDiv_",
        "outputId": "66e814a9-d47d-4fa9-aa4f-d0de22dc7c32"
      },
      "execution_count": 171,
      "outputs": [
        {
          "output_type": "execute_result",
          "data": {
            "text/plain": [
              "33000000.0"
            ]
          },
          "metadata": {},
          "execution_count": 171
        }
      ]
    },
    {
      "cell_type": "markdown",
      "metadata": {
        "id": "sy33CNNfPxcE"
      },
      "source": [
        "### Super efficient solution in Python\n",
        "\n",
        "Whitout storing the list in memory and whitout calling a function, add in each line a coment with the number of intstrcution that are executed in that line"
      ]
    },
    {
      "cell_type": "code",
      "execution_count": 172,
      "metadata": {
        "id": "_mOjJwKrPxcJ",
        "colab": {
          "base_uri": "https://localhost:8080/"
        },
        "outputId": "b5fcd30c-a287-41b3-b354-cf398daa43d6"
      },
      "outputs": [
        {
          "output_type": "stream",
          "name": "stdout",
          "text": [
            "Writing max_pairwise_product_sup.py\n"
          ]
        }
      ],
      "source": [
        "%%writefile max_pairwise_product_sup.py\n",
        "n = int(input())  # 1\n",
        "input_numbers = map(int, input().split())  # n\n",
        "max1 = float('-inf')  # 1\n",
        "max2 = float('-inf')  # 1\n",
        "\n",
        "for num in input_numbers:  # n\n",
        "  if num > max1:  # n\n",
        "    max2 = max1  # n\n",
        "    max1 = num  # n\n",
        "  elif num > max2:  # n\n",
        "    max2 = num  # n\n",
        "#prueba\n",
        "#print(max1,max2)\n",
        "result = max1 * max2  # 1\n",
        "\n",
        "print(result)  # 1\n",
        "\n",
        "#total: 7n+5"
      ]
    },
    {
      "cell_type": "markdown",
      "metadata": {
        "id": "K08Eow0hPxcJ"
      },
      "source": [
        "Test with inputs 1 and 2\n",
        "\n",
        "\n"
      ]
    },
    {
      "cell_type": "code",
      "execution_count": 173,
      "metadata": {
        "id": "1_mUee2cPxcJ",
        "colab": {
          "base_uri": "https://localhost:8080/"
        },
        "outputId": "c8197b36-68f1-4ced-9195-e65bf2724869"
      },
      "outputs": [
        {
          "output_type": "stream",
          "name": "stdout",
          "text": [
            "-rwxr-xr-x 1 root root 346 Dec  4 05:04 max_pairwise_product_sup.py\n"
          ]
        }
      ],
      "source": [
        "!chmod +x max_pairwise_product_sup.py\n",
        "!ls -l max_pairwise_product_sup.py"
      ]
    },
    {
      "cell_type": "code",
      "source": [
        "!python ./max_pairwise_product_sup.py < input0.txt"
      ],
      "metadata": {
        "colab": {
          "base_uri": "https://localhost:8080/"
        },
        "id": "XlSDd8yHDqET",
        "outputId": "94ae4b41-be21-4ac8-e523-fb6158cfa6f1"
      },
      "execution_count": 174,
      "outputs": [
        {
          "output_type": "stream",
          "name": "stdout",
          "text": [
            "0\n"
          ]
        }
      ]
    },
    {
      "cell_type": "code",
      "source": [
        "!python ./max_pairwise_product_sup.py < input1.txt"
      ],
      "metadata": {
        "colab": {
          "base_uri": "https://localhost:8080/"
        },
        "id": "FxvwigwPDso4",
        "outputId": "1e3c0d54-d98b-4bc2-ae89-a5a52365cd38"
      },
      "execution_count": 175,
      "outputs": [
        {
          "output_type": "stream",
          "name": "stdout",
          "text": [
            "90\n"
          ]
        }
      ]
    },
    {
      "cell_type": "code",
      "source": [
        "!python ./max_pairwise_product_sup.py < input2.txt"
      ],
      "metadata": {
        "colab": {
          "base_uri": "https://localhost:8080/"
        },
        "id": "T_ofMQKQDwC9",
        "outputId": "6048657a-0b5f-4adb-e673-e4cdf653761e"
      },
      "execution_count": 176,
      "outputs": [
        {
          "output_type": "stream",
          "name": "stdout",
          "text": [
            "90\n"
          ]
        }
      ]
    },
    {
      "cell_type": "markdown",
      "metadata": {
        "id": "CE5DB3CmPxcJ"
      },
      "source": [
        "Test and time it with input 3"
      ]
    },
    {
      "cell_type": "code",
      "execution_count": 177,
      "metadata": {
        "id": "lyLhFOoePxcJ",
        "colab": {
          "base_uri": "https://localhost:8080/"
        },
        "outputId": "b9620226-3352-4a10-e54d-27ec80f94e3f"
      },
      "outputs": [
        {
          "output_type": "stream",
          "name": "stdout",
          "text": [
            "6000000\n",
            "\n",
            "real\t0m0.037s\n",
            "user\t0m0.023s\n",
            "sys\t0m0.012s\n"
          ]
        }
      ],
      "source": [
        "!time python ./max_pairwise_product_sup.py < input3.txt"
      ]
    },
    {
      "cell_type": "markdown",
      "metadata": {
        "id": "HZEI236lPxcK"
      },
      "source": [
        "20 stress tests"
      ]
    },
    {
      "cell_type": "code",
      "execution_count": 178,
      "metadata": {
        "id": "_LoV-p4zPxcK",
        "colab": {
          "base_uri": "https://localhost:8080/"
        },
        "outputId": "f6d5f05f-e2ce-4ce8-9a5a-3540207f9c85"
      },
      "outputs": [
        {
          "output_type": "stream",
          "name": "stdout",
          "text": [
            "90\n",
            "90\n",
            "6000000\n",
            "31053252078\n",
            "810252\n",
            "/bin/bash: line 1: input6.txt: No such file or directory\n",
            "/bin/bash: line 1: input7.txt: No such file or directory\n",
            "/bin/bash: line 1: input8.txt: No such file or directory\n",
            "7405926\n",
            "37029630\n",
            "9847003500\n",
            "9965429865\n",
            "9616816208\n",
            "9943380282\n",
            "9798323150\n",
            "9999500006\n",
            "9997600135\n",
            "9994500646\n",
            "3522159322034836896\n"
          ]
        }
      ],
      "source": [
        "!python ./max_pairwise_product_sup.py < input1.txt\n",
        "!python ./max_pairwise_product_sup.py < input2.txt\n",
        "!python ./max_pairwise_product_sup.py < input3.txt\n",
        "!python ./max_pairwise_product_sup.py < input4.txt\n",
        "!python ./max_pairwise_product_sup.py < input5.txt\n",
        "!python ./max_pairwise_product_sup.py < input6.txt\n",
        "!python ./max_pairwise_product_sup.py < input7.txt\n",
        "!python ./max_pairwise_product_sup.py < input8.txt\n",
        "!python ./max_pairwise_product_sup.py < input9.txt\n",
        "!python ./max_pairwise_product_sup.py < input10.txt\n",
        "!python ./max_pairwise_product_sup.py < input11.txt\n",
        "!python ./max_pairwise_product_sup.py < input12.txt\n",
        "!python ./max_pairwise_product_sup.py < input13.txt\n",
        "!python ./max_pairwise_product_sup.py < input15.txt\n",
        "!python ./max_pairwise_product_sup.py < input16.txt\n",
        "!python ./max_pairwise_product_sup.py < input17.txt\n",
        "!python ./max_pairwise_product_sup.py < input18.txt\n",
        "!python ./max_pairwise_product_sup.py < input19.txt\n",
        "!python ./max_pairwise_product_sup.py < input20.txt"
      ]
    },
    {
      "cell_type": "markdown",
      "metadata": {
        "id": "IRVdP3iuPxcK"
      },
      "source": [
        "Count executed instructions in code and verify with inputs 1,2 and 3"
      ]
    },
    {
      "cell_type": "code",
      "execution_count": 179,
      "metadata": {
        "id": "RghJOg78PxcK",
        "colab": {
          "base_uri": "https://localhost:8080/"
        },
        "outputId": "6680f1ca-e4ad-43aa-d4a7-1210dc932f83"
      },
      "outputs": [
        {
          "output_type": "stream",
          "name": "stdout",
          "text": [
            "Writing max_pairwise_product_sup2.py\n"
          ]
        }
      ],
      "source": [
        "%%writefile max_pairwise_product_sup2.py\n",
        "execints = 0\n",
        "\n",
        "n = int(input())  # 1\n",
        "execints += 1\n",
        "input_numbers = map(int, input().split())  # n\n",
        "execints += 1\n",
        "max1 = float('-inf')  # 1\n",
        "execints += 1\n",
        "max2 = float('-inf')  # 1\n",
        "execints += 1\n",
        "\n",
        "for num in input_numbers:  # n\n",
        "    execints += 1\n",
        "    if num > max1:  # n\n",
        "        execints += 1\n",
        "        max2 = max1  # n\n",
        "        execints += 1\n",
        "        max1 = num  # n\n",
        "        execints += 1\n",
        "    elif num > max2:  # n\n",
        "        execints += 1\n",
        "        max2 = num  # n\n",
        "        execints += 1\n",
        "\n",
        "result = max1 * max2  # 1\n",
        "execints += 1\n",
        "\n",
        "print(result)  # 1\n",
        "execints += 1\n",
        "\n",
        "print(execints)\n"
      ]
    },
    {
      "cell_type": "code",
      "source": [
        "!chmod +x max_pairwise_product_sup2.py\n",
        "!ls -l max_pairwise_product_sup2.py"
      ],
      "metadata": {
        "colab": {
          "base_uri": "https://localhost:8080/"
        },
        "id": "BmvIP-4BD9YG",
        "outputId": "c76e91ce-4e38-4802-facf-44ef66f43b22"
      },
      "execution_count": 180,
      "outputs": [
        {
          "output_type": "stream",
          "name": "stdout",
          "text": [
            "-rwxr-xr-x 1 root root 566 Dec  4 05:06 max_pairwise_product_sup2.py\n"
          ]
        }
      ]
    },
    {
      "cell_type": "code",
      "source": [
        "n=10\n",
        "print(7*n+5)"
      ],
      "metadata": {
        "colab": {
          "base_uri": "https://localhost:8080/"
        },
        "id": "qI3nod4RD_1x",
        "outputId": "74bed8f0-d26c-4062-9f34-9664164a0f5c"
      },
      "execution_count": 181,
      "outputs": [
        {
          "output_type": "stream",
          "name": "stdout",
          "text": [
            "75\n"
          ]
        }
      ]
    },
    {
      "cell_type": "code",
      "source": [
        "!python ./max_pairwise_product_sup2.py < input1.txt"
      ],
      "metadata": {
        "colab": {
          "base_uri": "https://localhost:8080/"
        },
        "id": "ktlikjAoEBTr",
        "outputId": "fb3621a5-7ac6-4238-b2e7-08e39b7fceb9"
      },
      "execution_count": 182,
      "outputs": [
        {
          "output_type": "stream",
          "name": "stdout",
          "text": [
            "90\n",
            "46\n"
          ]
        }
      ]
    },
    {
      "cell_type": "code",
      "source": [
        "!python ./max_pairwise_product_sup2.py < input2.txt"
      ],
      "metadata": {
        "colab": {
          "base_uri": "https://localhost:8080/"
        },
        "id": "SDBpvv6BEDDi",
        "outputId": "62f5d185-230b-4d93-e60c-aac48df3ccea"
      },
      "execution_count": 183,
      "outputs": [
        {
          "output_type": "stream",
          "name": "stdout",
          "text": [
            "90\n",
            "21\n"
          ]
        }
      ]
    },
    {
      "cell_type": "code",
      "source": [
        "!python ./max_pairwise_product_sup2.py < input3.txt"
      ],
      "metadata": {
        "colab": {
          "base_uri": "https://localhost:8080/"
        },
        "id": "-uF1rdvNEGBT",
        "outputId": "ea24e16d-cb69-41f2-f0db-9331c0c62308"
      },
      "execution_count": 184,
      "outputs": [
        {
          "output_type": "stream",
          "name": "stdout",
          "text": [
            "6000000\n",
            "20\n"
          ]
        }
      ]
    },
    {
      "cell_type": "markdown",
      "metadata": {
        "id": "R6qeUjPaPxcK"
      },
      "source": [
        "Calculate estimated time by instruction and number of instructions by second"
      ]
    },
    {
      "cell_type": "code",
      "execution_count": 185,
      "metadata": {
        "id": "iLdXYvn3PxcK"
      },
      "outputs": [],
      "source": [
        "n = 200000\n",
        "numbers = \" \".join(map(str, range(1, 200001)))\n",
        "with open('input21.txt', 'w') as file:\n",
        "    file.write(f\"{n}\\n{numbers}\\n\")"
      ]
    },
    {
      "cell_type": "code",
      "source": [
        "!time python ./max_pairwise_product_sup2.py < input21.txt"
      ],
      "metadata": {
        "colab": {
          "base_uri": "https://localhost:8080/"
        },
        "id": "HY1zawYGEKL3",
        "outputId": "b82f0f85-ae7d-4131-c3a6-bfaa9eaf129f"
      },
      "execution_count": 186,
      "outputs": [
        {
          "output_type": "stream",
          "name": "stdout",
          "text": [
            "39999800000\n",
            "800006\n",
            "\n",
            "real\t0m0.295s\n",
            "user\t0m0.249s\n",
            "sys\t0m0.029s\n"
          ]
        }
      ]
    },
    {
      "cell_type": "code",
      "source": [
        "n=200000\n",
        "print(7*n+5)"
      ],
      "metadata": {
        "colab": {
          "base_uri": "https://localhost:8080/"
        },
        "id": "ibHhtpbGEMIE",
        "outputId": "17993138-305e-4d7c-c631-790496e2ca95"
      },
      "execution_count": 187,
      "outputs": [
        {
          "output_type": "stream",
          "name": "stdout",
          "text": [
            "1400005\n"
          ]
        }
      ]
    },
    {
      "cell_type": "code",
      "source": [
        "# Estimated time by instruction\n",
        "0.190/800006"
      ],
      "metadata": {
        "colab": {
          "base_uri": "https://localhost:8080/"
        },
        "id": "7ZIhQ-BXENbc",
        "outputId": "4e954e04-ff1c-4e6e-afb1-de76c488aeef"
      },
      "execution_count": 188,
      "outputs": [
        {
          "output_type": "execute_result",
          "data": {
            "text/plain": [
              "2.3749821876335927e-07"
            ]
          },
          "metadata": {},
          "execution_count": 188
        }
      ]
    },
    {
      "cell_type": "code",
      "source": [
        "# Estimated number of instructions by second\n",
        "800006/0.190"
      ],
      "metadata": {
        "colab": {
          "base_uri": "https://localhost:8080/"
        },
        "id": "u35v3fthEPSI",
        "outputId": "06a3d7c3-39f8-4040-a2f7-b9f48a805d07"
      },
      "execution_count": 189,
      "outputs": [
        {
          "output_type": "execute_result",
          "data": {
            "text/plain": [
              "4210557.894736842"
            ]
          },
          "metadata": {},
          "execution_count": 189
        }
      ]
    },
    {
      "cell_type": "markdown",
      "source": [
        "### Estimate and verify the maximun n that can be solved in 1 second"
      ],
      "metadata": {
        "id": "uZGdjUwuaO4v"
      }
    },
    {
      "cell_type": "markdown",
      "source": [
        "$$(7n+5) \\times 2.37*10^{-7} s = 1 s$$\n",
        "\n",
        "$$ n \\approx 6×10^5 $$"
      ],
      "metadata": {
        "id": "r118eroQEWpV"
      }
    },
    {
      "cell_type": "markdown",
      "source": [
        "*T*(N)=(7n+5) is not the actual function of the code, given that the execution time is greater than 1 second with the given n, the value of n that results in an execution time of 1 second is: $$ \\approx 2*10 ^6$$"
      ],
      "metadata": {
        "id": "2GJXMfyoEYt-"
      }
    },
    {
      "cell_type": "code",
      "source": [
        "print(2000000*(2000000-1))"
      ],
      "metadata": {
        "colab": {
          "base_uri": "https://localhost:8080/"
        },
        "id": "fQ1Y8R5QEesC",
        "outputId": "73ac90ac-e1ec-4c61-e916-140420e36855"
      },
      "execution_count": 190,
      "outputs": [
        {
          "output_type": "stream",
          "name": "stdout",
          "text": [
            "3999998000000\n"
          ]
        }
      ]
    },
    {
      "cell_type": "code",
      "source": [
        "n = (2000000)\n",
        "numbers = \" \".join(map(str, range(1, n+1)))\n",
        "with open('input22.txt', 'w') as file:\n",
        "    file.write(f\"{n}\\n{numbers}\\n\")"
      ],
      "metadata": {
        "id": "zfk4WC_8EgPD"
      },
      "execution_count": 191,
      "outputs": []
    },
    {
      "cell_type": "code",
      "source": [
        "!time python ./max_pairwise_product_sup.py < input22.txt"
      ],
      "metadata": {
        "colab": {
          "base_uri": "https://localhost:8080/"
        },
        "id": "YzOn8CBjEiMD",
        "outputId": "47ad283a-5351-470b-b783-a72bd0e52384"
      },
      "execution_count": 192,
      "outputs": [
        {
          "output_type": "stream",
          "name": "stdout",
          "text": [
            "3999998000000\n",
            "\n",
            "real\t0m0.809s\n",
            "user\t0m0.678s\n",
            "sys\t0m0.127s\n"
          ]
        }
      ]
    },
    {
      "cell_type": "markdown",
      "source": [
        "## Perform 100 randomized automated tests in C++ and Python with a porgram  compares the answers,for the same 100 random input instances, of the super efficient solution $(T(n) < 10 n = O(n))$ against the sorting solution  $(T(n)  = O(n \\lg{n}))$,  if the answers are not the same stops and displays \"Error\" listing  the input and the two answers; if the 100 tests are completed without stoping displays \"Pass\"."
      ],
      "metadata": {
        "id": "4hHRQMXzW6oR"
      }
    },
    {
      "cell_type": "code",
      "source": [
        "import random\n",
        "import math\n",
        "\n",
        "# Number of stress tests\n",
        "num_tests = 100\n",
        "\n",
        "for test_number in range(1, 101):\n",
        "    n = random.randint(2, 100000)\n",
        "    # Generating random values\n",
        "    numbers = [random.randint(1, 99999) for _ in range(n)]\n",
        "\n",
        "    #Writing the input in a file\n",
        "    with open(f\"inputltest{test_number}.txt\", \"w\") as file:\n",
        "        file.write(f\"{n}\\n\")\n",
        "        file.write(\" \".join(map(str, numbers)))\n",
        "\n",
        "    print(f\"Test {test_number}: N={n}\")"
      ],
      "metadata": {
        "colab": {
          "base_uri": "https://localhost:8080/"
        },
        "id": "dmQmQzKfEnpz",
        "outputId": "b041ac37-6456-470d-a32c-e4204a9662da"
      },
      "execution_count": 193,
      "outputs": [
        {
          "output_type": "stream",
          "name": "stdout",
          "text": [
            "Test 1: N=433\n",
            "Test 2: N=20576\n",
            "Test 3: N=99237\n",
            "Test 4: N=8775\n",
            "Test 5: N=76150\n",
            "Test 6: N=53600\n",
            "Test 7: N=21578\n",
            "Test 8: N=26011\n",
            "Test 9: N=54889\n",
            "Test 10: N=6214\n",
            "Test 11: N=93329\n",
            "Test 12: N=30917\n",
            "Test 13: N=93785\n",
            "Test 14: N=17791\n",
            "Test 15: N=8070\n",
            "Test 16: N=65474\n",
            "Test 17: N=54774\n",
            "Test 18: N=48072\n",
            "Test 19: N=84028\n",
            "Test 20: N=63813\n",
            "Test 21: N=27343\n",
            "Test 22: N=4687\n",
            "Test 23: N=35418\n",
            "Test 24: N=77506\n",
            "Test 25: N=86053\n",
            "Test 26: N=50153\n",
            "Test 27: N=33646\n",
            "Test 28: N=26925\n",
            "Test 29: N=58628\n",
            "Test 30: N=64237\n",
            "Test 31: N=61106\n",
            "Test 32: N=56179\n",
            "Test 33: N=73622\n",
            "Test 34: N=33537\n",
            "Test 35: N=98296\n",
            "Test 36: N=57180\n",
            "Test 37: N=42083\n",
            "Test 38: N=80445\n",
            "Test 39: N=23105\n",
            "Test 40: N=56467\n",
            "Test 41: N=97745\n",
            "Test 42: N=13586\n",
            "Test 43: N=7637\n",
            "Test 44: N=45495\n",
            "Test 45: N=11148\n",
            "Test 46: N=11570\n",
            "Test 47: N=49269\n",
            "Test 48: N=12057\n",
            "Test 49: N=18034\n",
            "Test 50: N=84984\n",
            "Test 51: N=59216\n",
            "Test 52: N=71549\n",
            "Test 53: N=47277\n",
            "Test 54: N=64053\n",
            "Test 55: N=43858\n",
            "Test 56: N=77259\n",
            "Test 57: N=21001\n",
            "Test 58: N=45963\n",
            "Test 59: N=98061\n",
            "Test 60: N=46545\n",
            "Test 61: N=40628\n",
            "Test 62: N=27240\n",
            "Test 63: N=76579\n",
            "Test 64: N=11081\n",
            "Test 65: N=63961\n",
            "Test 66: N=92301\n",
            "Test 67: N=22050\n",
            "Test 68: N=50147\n",
            "Test 69: N=60401\n",
            "Test 70: N=91889\n",
            "Test 71: N=71279\n",
            "Test 72: N=38925\n",
            "Test 73: N=55814\n",
            "Test 74: N=30503\n",
            "Test 75: N=42370\n",
            "Test 76: N=95665\n",
            "Test 77: N=7875\n",
            "Test 78: N=78731\n",
            "Test 79: N=75237\n",
            "Test 80: N=55872\n",
            "Test 81: N=9363\n",
            "Test 82: N=19482\n",
            "Test 83: N=3653\n",
            "Test 84: N=50473\n",
            "Test 85: N=99991\n",
            "Test 86: N=55462\n",
            "Test 87: N=87369\n",
            "Test 88: N=71907\n",
            "Test 89: N=82706\n",
            "Test 90: N=26106\n",
            "Test 91: N=94129\n",
            "Test 92: N=70848\n",
            "Test 93: N=97340\n",
            "Test 94: N=25958\n",
            "Test 95: N=52556\n",
            "Test 96: N=7418\n",
            "Test 97: N=28518\n",
            "Test 98: N=53863\n",
            "Test 99: N=14219\n",
            "Test 100: N=9731\n"
          ]
        }
      ]
    },
    {
      "cell_type": "markdown",
      "source": [
        "Python Super Efficient"
      ],
      "metadata": {
        "id": "-PYl46YPEsF8"
      }
    },
    {
      "cell_type": "code",
      "source": [
        "# Crear un script de Python para generar líneas de comando\n",
        "script_content = \"\"\"\\\n",
        "#!/usr/bin/env python\n",
        "\n",
        "for i in range(1, 101):\n",
        "    input_file = f\"inputltest{i}.txt\"\n",
        "    output_file = f\"outputltest{i}.txt\"\n",
        "    command = f\"python3 max_pairwise_product_sup.py < {input_file} > {output_file}\"\n",
        "    print(command)\n",
        "\"\"\"\n",
        "\n",
        "# Guardar el script en un archivo\n",
        "with open(\"generate_commands.py\", \"w\") as script_file:\n",
        "    script_file.write(script_content)\n"
      ],
      "metadata": {
        "id": "_lEB4O91Eual"
      },
      "execution_count": 194,
      "outputs": []
    },
    {
      "cell_type": "code",
      "source": [
        "!python generate_commands.py > run_tests.sh\n",
        "!chmod +x run_tests.sh\n",
        "!./run_tests.sh"
      ],
      "metadata": {
        "id": "wtMkDfIyExOE"
      },
      "execution_count": 195,
      "outputs": []
    },
    {
      "cell_type": "code",
      "source": [
        "!cat outputltest1.txt\n",
        "!cat outputltest100.txt"
      ],
      "metadata": {
        "colab": {
          "base_uri": "https://localhost:8080/"
        },
        "id": "iBlDBnGmE1OB",
        "outputId": "9bb05399-7e8a-40c0-e109-c4794480e7df"
      },
      "execution_count": 196,
      "outputs": [
        {
          "output_type": "stream",
          "name": "stdout",
          "text": [
            "9942183678\n",
            "9996100360\n"
          ]
        }
      ]
    },
    {
      "cell_type": "markdown",
      "source": [
        "C++ Super Efficient"
      ],
      "metadata": {
        "id": "LZFrqk0XE3PV"
      }
    },
    {
      "cell_type": "code",
      "source": [
        "script_content = \"\"\"\\\n",
        "#!/usr/bin/env python\n",
        "\n",
        "cpp_file = \"max_pairwise_product_superefficient.cpp\"\n",
        "executable = \"./max_pairwise_product_superefficient\"\n",
        "\n",
        "# Compilar el programa C++\n",
        "compile_command = f\"g++ {cpp_file} -o {executable}\"\n",
        "print(compile_command)\n",
        "\n",
        "for i in range(1, 101):\n",
        "    input_file = f\"inputltest{i}.txt\"\n",
        "    output_file = f\"outputctest{i}.txt\"\n",
        "\n",
        "    run_command = f\"{executable} < {input_file} > {output_file}\"\n",
        "    print(run_command)\n",
        "\"\"\"\n",
        "\n",
        "# Guardar el script en un archivo\n",
        "with open(\"generate_commands_cpp.py\", \"w\") as script_file:\n",
        "    script_file.write(script_content)\n"
      ],
      "metadata": {
        "id": "Ccjlf2fyE5eL"
      },
      "execution_count": 197,
      "outputs": []
    },
    {
      "cell_type": "code",
      "source": [
        "!python generate_commands_cpp.py > run_tests_c.sh\n",
        "!chmod +x run_tests_c.sh\n",
        "!./run_tests_c.sh"
      ],
      "metadata": {
        "id": "9ZJNQZZkE8Xm"
      },
      "execution_count": 198,
      "outputs": []
    },
    {
      "cell_type": "code",
      "source": [
        "!cat outputctest1.txt\n",
        "!cat outputctest100.txt"
      ],
      "metadata": {
        "colab": {
          "base_uri": "https://localhost:8080/"
        },
        "id": "MG2iwdF2E_PC",
        "outputId": "1203f10e-e84c-4d27-d8a6-cb7e5632b825"
      },
      "execution_count": 199,
      "outputs": [
        {
          "output_type": "stream",
          "name": "stdout",
          "text": [
            "9942183678\n",
            "Execution Time: 1\n",
            "9996100360\n",
            "Execution Time: 1\n"
          ]
        }
      ]
    },
    {
      "cell_type": "markdown",
      "source": [
        "Test for the sort solutions python and c++:"
      ],
      "metadata": {
        "id": "YjyjiFpbFA4H"
      }
    },
    {
      "cell_type": "markdown",
      "source": [
        "Python Sort"
      ],
      "metadata": {
        "id": "-22JGxgoFIGh"
      }
    },
    {
      "cell_type": "code",
      "source": [
        "script_content = \"\"\"\\\n",
        "#!/usr/bin/env python\n",
        "\n",
        "for i in range(1, 101):\n",
        "    input_file = f\"inputltest{i}.txt\"\n",
        "    output_file = f\"outputpysorttest{i}.txt\"\n",
        "    command = f\"python3 max_pairwise_product_sort.py < {input_file} > {output_file}\"\n",
        "    print(command)\n",
        "\"\"\"\n",
        "\n",
        "# Guardar el script en un archivo\n",
        "with open(\"generate_commands_sort.py\", \"w\") as script_file:\n",
        "    script_file.write(script_content)\n"
      ],
      "metadata": {
        "id": "qG56TF8uFKbA"
      },
      "execution_count": 200,
      "outputs": []
    },
    {
      "cell_type": "code",
      "source": [
        "!python generate_commands_sort.py > run_tests_pysort.sh\n",
        "!chmod +x run_tests_pysort.sh\n",
        "!./run_tests_pysort.sh"
      ],
      "metadata": {
        "id": "T-sfF-ohFNDC"
      },
      "execution_count": 201,
      "outputs": []
    },
    {
      "cell_type": "code",
      "source": [
        "!cat outputpysorttest1.txt\n",
        "!cat outputpysorttest100.txt"
      ],
      "metadata": {
        "colab": {
          "base_uri": "https://localhost:8080/"
        },
        "id": "4ILH2nVOFQRW",
        "outputId": "75138e69-38f1-451b-c417-9faed9abb601"
      },
      "execution_count": 202,
      "outputs": [
        {
          "output_type": "stream",
          "name": "stdout",
          "text": [
            "9942183678\n",
            "9996100360\n"
          ]
        }
      ]
    },
    {
      "cell_type": "markdown",
      "source": [
        "C++ Sort"
      ],
      "metadata": {
        "id": "lKDABBOoFSqb"
      }
    },
    {
      "cell_type": "code",
      "source": [
        "script_content = \"\"\"\\\n",
        "#!/usr/bin/env python\n",
        "\n",
        "cpp_file = \"max_pairwise_product_sort.cpp\"\n",
        "executable = \"./max_pairwise_product_sort\"\n",
        "\n",
        "# Compilar el programa C++\n",
        "compile_command = f\"g++ {cpp_file} -o {executable}\"\n",
        "print(compile_command)\n",
        "\n",
        "for i in range(1, 101):\n",
        "    input_file = f\"inputltest{i}.txt\"\n",
        "    output_file = f\"outputcsorttest{i}.txt\"\n",
        "\n",
        "    run_command = f\"{executable} < {input_file} > {output_file}\"\n",
        "    print(run_command)\n",
        "\"\"\"\n",
        "\n",
        "# Guardar el script en un archivo\n",
        "with open(\"generate_commands_cpp_sort.py\", \"w\") as script_file:\n",
        "    script_file.write(script_content)"
      ],
      "metadata": {
        "id": "Ymq2d4_vFZkF"
      },
      "execution_count": 203,
      "outputs": []
    },
    {
      "cell_type": "code",
      "source": [
        "!python generate_commands_cpp_sort.py > run_tests_c_sort.sh\n",
        "!chmod +x run_tests_c_sort.sh\n",
        "!./run_tests_c_sort.sh"
      ],
      "metadata": {
        "id": "R1OaGeghFcDb"
      },
      "execution_count": 204,
      "outputs": []
    },
    {
      "cell_type": "code",
      "source": [
        "!cat outputcsorttest1.txt\n",
        "!cat outputcsorttest100.txt"
      ],
      "metadata": {
        "colab": {
          "base_uri": "https://localhost:8080/"
        },
        "id": "RbMasVQmFl4p",
        "outputId": "002652c8-01d2-41f7-f9d8-aa3c872d4125"
      },
      "execution_count": 205,
      "outputs": [
        {
          "output_type": "stream",
          "name": "stdout",
          "text": [
            "9942183678\n",
            "9996100360\n"
          ]
        }
      ]
    },
    {
      "cell_type": "markdown",
      "source": [
        "Compare C++ Sort and C++ Superefficient"
      ],
      "metadata": {
        "id": "Od0L_7gMFn6N"
      }
    },
    {
      "cell_type": "code",
      "source": [
        "def compare_outputs(output_file1, output_file2):\n",
        "    with open(output_file1, 'r') as file1, open(output_file2, 'r') as file2:\n",
        "        for line1, line2 in zip(file1, file2):\n",
        "            if line1.strip() != line2.strip():\n",
        "                return \"Error\"\n",
        "    return \"Pass\"\n",
        "\n",
        "# Comparar los 100 archivos de salida\n",
        "for i in range(1, 101):\n",
        "    output_file1 = f\"outputctest{i}.txt\"\n",
        "    output_file2 = f\"outputcsorttest{i}.txt\"\n",
        "    result = compare_outputs(output_file1, output_file2)\n",
        "    print(f\"Test {i}: {result}\")\n"
      ],
      "metadata": {
        "colab": {
          "base_uri": "https://localhost:8080/"
        },
        "id": "g1voGWvsFvkB",
        "outputId": "6a9d179c-d8c2-4259-ca37-34a3c7aaa1dc"
      },
      "execution_count": 206,
      "outputs": [
        {
          "output_type": "stream",
          "name": "stdout",
          "text": [
            "Test 1: Pass\n",
            "Test 2: Pass\n",
            "Test 3: Pass\n",
            "Test 4: Pass\n",
            "Test 5: Pass\n",
            "Test 6: Pass\n",
            "Test 7: Pass\n",
            "Test 8: Pass\n",
            "Test 9: Pass\n",
            "Test 10: Pass\n",
            "Test 11: Pass\n",
            "Test 12: Pass\n",
            "Test 13: Pass\n",
            "Test 14: Pass\n",
            "Test 15: Pass\n",
            "Test 16: Pass\n",
            "Test 17: Pass\n",
            "Test 18: Pass\n",
            "Test 19: Pass\n",
            "Test 20: Pass\n",
            "Test 21: Pass\n",
            "Test 22: Pass\n",
            "Test 23: Pass\n",
            "Test 24: Pass\n",
            "Test 25: Pass\n",
            "Test 26: Pass\n",
            "Test 27: Pass\n",
            "Test 28: Pass\n",
            "Test 29: Pass\n",
            "Test 30: Pass\n",
            "Test 31: Pass\n",
            "Test 32: Pass\n",
            "Test 33: Pass\n",
            "Test 34: Pass\n",
            "Test 35: Pass\n",
            "Test 36: Pass\n",
            "Test 37: Pass\n",
            "Test 38: Pass\n",
            "Test 39: Pass\n",
            "Test 40: Pass\n",
            "Test 41: Pass\n",
            "Test 42: Pass\n",
            "Test 43: Pass\n",
            "Test 44: Pass\n",
            "Test 45: Pass\n",
            "Test 46: Pass\n",
            "Test 47: Pass\n",
            "Test 48: Pass\n",
            "Test 49: Pass\n",
            "Test 50: Pass\n",
            "Test 51: Pass\n",
            "Test 52: Pass\n",
            "Test 53: Pass\n",
            "Test 54: Pass\n",
            "Test 55: Pass\n",
            "Test 56: Pass\n",
            "Test 57: Pass\n",
            "Test 58: Pass\n",
            "Test 59: Pass\n",
            "Test 60: Pass\n",
            "Test 61: Pass\n",
            "Test 62: Pass\n",
            "Test 63: Pass\n",
            "Test 64: Pass\n",
            "Test 65: Pass\n",
            "Test 66: Pass\n",
            "Test 67: Pass\n",
            "Test 68: Pass\n",
            "Test 69: Pass\n",
            "Test 70: Pass\n",
            "Test 71: Pass\n",
            "Test 72: Pass\n",
            "Test 73: Pass\n",
            "Test 74: Pass\n",
            "Test 75: Pass\n",
            "Test 76: Pass\n",
            "Test 77: Pass\n",
            "Test 78: Pass\n",
            "Test 79: Pass\n",
            "Test 80: Pass\n",
            "Test 81: Pass\n",
            "Test 82: Pass\n",
            "Test 83: Pass\n",
            "Test 84: Pass\n",
            "Test 85: Pass\n",
            "Test 86: Pass\n",
            "Test 87: Pass\n",
            "Test 88: Pass\n",
            "Test 89: Pass\n",
            "Test 90: Pass\n",
            "Test 91: Pass\n",
            "Test 92: Pass\n",
            "Test 93: Pass\n",
            "Test 94: Pass\n",
            "Test 95: Pass\n",
            "Test 96: Pass\n",
            "Test 97: Pass\n",
            "Test 98: Pass\n",
            "Test 99: Pass\n",
            "Test 100: Pass\n"
          ]
        }
      ]
    },
    {
      "cell_type": "markdown",
      "source": [
        "Compare Python Sort and Python Superefficient"
      ],
      "metadata": {
        "id": "bN1YA93RFyXd"
      }
    },
    {
      "cell_type": "code",
      "source": [
        "def compare_outputs(output_file1, output_file2):\n",
        "    with open(output_file1, 'r') as file1, open(output_file2, 'r') as file2:\n",
        "        for line1, line2 in zip(file1, file2):\n",
        "            if line1.strip() != line2.strip():\n",
        "                return \"Error\"\n",
        "    return \"Pass\"\n",
        "\n",
        "# Comparar los 100 archivos de salida\n",
        "for i in range(1, 101):\n",
        "    output_file1 = f\"outputltest{i}.txt\"\n",
        "    output_file2 = f\"outputpysorttest{i}.txt\"\n",
        "    result = compare_outputs(output_file1, output_file2)\n",
        "    print(f\"Test {i}: {result}\")\n"
      ],
      "metadata": {
        "colab": {
          "base_uri": "https://localhost:8080/"
        },
        "id": "qveSu8T4F0ru",
        "outputId": "7c396593-f5e6-4ad5-f563-cb47c8ef77a3"
      },
      "execution_count": 207,
      "outputs": [
        {
          "output_type": "stream",
          "name": "stdout",
          "text": [
            "Test 1: Pass\n",
            "Test 2: Pass\n",
            "Test 3: Pass\n",
            "Test 4: Pass\n",
            "Test 5: Pass\n",
            "Test 6: Pass\n",
            "Test 7: Pass\n",
            "Test 8: Pass\n",
            "Test 9: Pass\n",
            "Test 10: Pass\n",
            "Test 11: Pass\n",
            "Test 12: Pass\n",
            "Test 13: Pass\n",
            "Test 14: Pass\n",
            "Test 15: Pass\n",
            "Test 16: Pass\n",
            "Test 17: Pass\n",
            "Test 18: Pass\n",
            "Test 19: Pass\n",
            "Test 20: Pass\n",
            "Test 21: Pass\n",
            "Test 22: Pass\n",
            "Test 23: Pass\n",
            "Test 24: Pass\n",
            "Test 25: Pass\n",
            "Test 26: Pass\n",
            "Test 27: Pass\n",
            "Test 28: Pass\n",
            "Test 29: Pass\n",
            "Test 30: Pass\n",
            "Test 31: Pass\n",
            "Test 32: Pass\n",
            "Test 33: Pass\n",
            "Test 34: Pass\n",
            "Test 35: Pass\n",
            "Test 36: Pass\n",
            "Test 37: Pass\n",
            "Test 38: Pass\n",
            "Test 39: Pass\n",
            "Test 40: Pass\n",
            "Test 41: Pass\n",
            "Test 42: Pass\n",
            "Test 43: Pass\n",
            "Test 44: Pass\n",
            "Test 45: Pass\n",
            "Test 46: Pass\n",
            "Test 47: Pass\n",
            "Test 48: Pass\n",
            "Test 49: Pass\n",
            "Test 50: Pass\n",
            "Test 51: Pass\n",
            "Test 52: Pass\n",
            "Test 53: Pass\n",
            "Test 54: Pass\n",
            "Test 55: Pass\n",
            "Test 56: Pass\n",
            "Test 57: Pass\n",
            "Test 58: Pass\n",
            "Test 59: Pass\n",
            "Test 60: Pass\n",
            "Test 61: Pass\n",
            "Test 62: Pass\n",
            "Test 63: Pass\n",
            "Test 64: Pass\n",
            "Test 65: Pass\n",
            "Test 66: Pass\n",
            "Test 67: Pass\n",
            "Test 68: Pass\n",
            "Test 69: Pass\n",
            "Test 70: Pass\n",
            "Test 71: Pass\n",
            "Test 72: Pass\n",
            "Test 73: Pass\n",
            "Test 74: Pass\n",
            "Test 75: Pass\n",
            "Test 76: Pass\n",
            "Test 77: Pass\n",
            "Test 78: Pass\n",
            "Test 79: Pass\n",
            "Test 80: Pass\n",
            "Test 81: Pass\n",
            "Test 82: Pass\n",
            "Test 83: Pass\n",
            "Test 84: Pass\n",
            "Test 85: Pass\n",
            "Test 86: Pass\n",
            "Test 87: Pass\n",
            "Test 88: Pass\n",
            "Test 89: Pass\n",
            "Test 90: Pass\n",
            "Test 91: Pass\n",
            "Test 92: Pass\n",
            "Test 93: Pass\n",
            "Test 94: Pass\n",
            "Test 95: Pass\n",
            "Test 96: Pass\n",
            "Test 97: Pass\n",
            "Test 98: Pass\n",
            "Test 99: Pass\n",
            "Test 100: Pass\n"
          ]
        }
      ]
    }
  ],
  "metadata": {
    "colab": {
      "provenance": []
    },
    "kernelspec": {
      "display_name": "Python 3",
      "name": "python3"
    },
    "language_info": {
      "name": "python"
    }
  },
  "nbformat": 4,
  "nbformat_minor": 0
}